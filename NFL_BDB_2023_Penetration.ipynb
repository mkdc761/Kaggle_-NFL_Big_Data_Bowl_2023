{
 "cells": [
  {
   "cell_type": "markdown",
   "id": "dbf193ef-4c31-4533-beeb-28702b0ae521",
   "metadata": {},
   "source": [
    "## Introduction"
   ]
  },
  {
   "cell_type": "markdown",
   "id": "1f1ce181-628c-49df-a684-9367c17c7641",
   "metadata": {},
   "source": [
    "#### Dataquest Guided Project 1:The goal of this project is to assess offensive line performance in pass protection. In an ideal situation a quarterback will have a clean pocket with room to throw. To this end the center becomes critical in preventing defenders from pushing forward. A clean pocket is considered to be a semi-circle with the center being the apex of the arc. If the apex collapses backward, it becomes increasingly difficult for the quarterback to successfully complete a pass. For this reason, the distance a defender penetrates the arc, measured using the x column of the tracking data, will be used to assess performance of the center."
   ]
  },
  {
   "cell_type": "markdown",
   "id": "51115117-40cc-416c-a6dd-2b63dd765d5d",
   "metadata": {},
   "source": [
    "## Methodology\n",
    "    \n",
    "#### The key task in measuring defender penetration is determining who the center is blocking. This was achieved by finding the Euclidean distance between the center and selected defenders using “x” & “y” values from tracking data. The defender with the shortest Euclidean distance to the center was identified as the defender being blocked by the center. Euclidean distance was calculated 0.3 seconds after ball snap to allow time for the center to engage in a block (i.e., a rushing linebacker may not initially be lined up on the line of scrimmage). \n",
    "\n",
    "#### For this project, defensive backs were excluded as potential defenders since the center generally does not block these defenders. Future iterations of this project may include defensive backs for greater accuracy.  \n",
    "\n",
    "#### After the defender being blocked by the center was identified, penetration was calculated by subtracting the starting “x” value (0.3 seconds after ball snap) from the ending “x” value when a pass is thrown (“event” = pass_forward). The higher the penetration, the farther up field a defender was able to get and collapse the pocket. Visiting team penetration was multiplied by -1 to account for the different direction of play (x = 0 for the home team endzone versus x = 100 for the visiting team end zone).\n",
    "\n",
    "#### It is important to note that lateral movement (“y” value on the tracking data) was not considered because changes in lateral movement would not impact the quarterback nearly as much as changes in vertical (“x” value) movement. A defender getting past the center or pushing the center back into the quarterback is much more impactful than a defender moving left or right to the sidelines. \n",
    "\n",
    "#### Finally, penetration was averaged for each center and sorted from lowest to highest. This provided a list of centers ranked best to worst based on the amount of penetration they allowed. The number of plays for each center was included since a center with 250 snaps is much more accurately measured versus a center with 10 snaps. Not all defenders are included as some plays had two centers listed, likely due to a back-up center playing guard, or some similar issue. These plays with multiple centers were removed from the dataset. Future iterations of this project may involve identification of the true center when multiple centers are listed. \n",
    "\n",
    "## Data Preparation\n",
    "\n",
    "#### A brief overview of data preparation will be included here. In depth review of data preparation can be achieved by viewing code with notes in the Appendix (below).\n",
    "\n",
    "#### Data preparation included extensive identification of records by combining ID such as “gameId”,” playId”, “frameId”, “nflId” and more. It was necessary to identify data at the game level, play level, and frame level for each player and position to appropriately merge datasets and compare Euclidean distance between the center and each different defender. This was achieved by splitting out the tracking data by position, renaming columns as needed (i.e. “x” becomes “DE_x” for defensive ends) then merging the position data sets back into each other. Once this was completed, each center was listed with each defender on the same row. Euclidean distance could then be calculated for each center and defender on a row wise basis.\n",
    "\n",
    "#### Once the Euclidean distance was calculated and the engaged defender was identified, a list of defenders was created. This list of defenders was then merged with a list of centers and penetration calculated as discussed above. Each play included frames that was limited to 0.3 after the snap to the moment a pass was attempted. This penetration value was then averaged for each center.\n",
    "\n",
    "## Results\n",
    "\n",
    "#### The above process resulted in a list of 46 centers by name, team, number of snaps included in the average, and average penetration. Penetration ranged from -6.22 to 5.68. A negative value indicates the defender was pushed backward. Note, an average penetration of -6.22 was achieved by a center with a single snap. This would not be representative of ongoing performance. \n"
   ]
  },
  {
   "cell_type": "markdown",
   "id": "b154823b-4353-48a9-9fa8-423e00a6c315",
   "metadata": {},
   "source": [
    "| Rank | displayName       | penetration | Play Count | possessionTeam |\n",
    "|------|-------------------|-------------|------------|----------------|\n",
    "| 1    | Jake Brendel      | -6.22       | 1          | SF             |\n",
    "| 2    | Will Clapp        | -3.26       | 12         | NO             |\n",
    "| 3    | Ryan Bates        | -1.75       | 3          | BUF            |\n",
    "| 4    | Lloyd Cushenberry | -1.22       | 281        | DEN            |\n",
    "| 5    | Chase Roullier    | -1.11       | 253        | WAS            |\n",
    "| 6    | Tyler Biadasz     | -0.88       | 235        | DAL            |\n",
    "| 7    | Austin Reiter     | -0.73       | 71         | MIA            |\n",
    "| 8    | Ryan Kelly        | -0.58       | 235        | IND            |\n",
    "| 9    | Trey Hopkins      | -0.56       | 222        | CIN            |\n",
    "| 10   | Bradley Bozeman   | -0.51       | 233        | BAL            |\n",
    "| 11   | Kendrick Green    | -0.47       | 201        | PIT            |\n",
    "| 12   | Erik McCoy        | -0.39       | 75         | NO             |\n",
    "| 13   | Matt Paradis      | -0.36       | 240        | CAR            |\n",
    "| 14   | Corey Linsley     | -0.32       | 255        | LAC            |\n",
    "| 15   | Brian Allen       | -0.31       | 239        | LA             |\n",
    "| 16   | Michael Deiter    | -0.28       | 107        | MIA            |\n",
    "| 17   | Sam Mustipher     | -0.18       | 236        | CHI            |\n",
    "| 18   | Creed Humphrey    | -0.17       | 312        | KC             |\n",
    "| 19   | Greg Mancz        | -0.04       | 110        | MIA            |\n",
    "| 20   | Billy Price       | -0.02       | 104        | NYG            |\n",
    "| 21   | Ryan Jensen       | -0.02       | 298        | TB             |\n",
    "| 22   | J.C. Tretter      | 0.13        | 237        | CLE            |\n",
    "| 23   | Mitch Morse       | 0.16        | 234        | BUF            |\n",
    "| 24   | David Andrews     | 0.19        | 134        | NE             |\n",
    "| 25   | Andre James       | 0.22        | 250        | LV             |\n",
    "| 26   | Connor McGovern   | 0.27        | 251        | NYJ            |\n",
    "| 27   | Max Garcia        | 0.36        | 57         | ARI            |\n",
    "| 28   | Ben Jones         | 0.36        | 210        | TEN            |\n",
    "| 29   | Jason Kelce       | 0.38        | 237        | PHI            |\n",
    "| 30   | Justin Britt      | 0.43        | 136        | HOU            |\n",
    "| 31   | Matt Hennessy     | 0.46        | 267        | ATL            |\n",
    "| 32   | Josh Myers        | 0.52        | 106        | GB             |\n",
    "| 33   | Garrett Bradbury  | 0.75        | 236        | MIN            |\n",
    "| 34   | Justin McCray     | 0.78        | 74         | HOU            |\n",
    "| 35   | Alex Mack         | 0.78        | 203        | SF             |\n",
    "| 36   | Tyler Larsen      | 0.85        | 22         | WAS            |\n",
    "| 37   | Nick Gates        | 1.01        | 38         | NYG            |\n",
    "| 38   | Frank Ragnow      | 1.12        | 126        | DET            |\n",
    "| 39   | Evan Brown        | 1.18        | 174        | DET            |\n",
    "| 40   | Ethan Pocic       | 1.29        | 33         | SEA            |\n",
    "| 41   | Rodney Hudson     | 1.71        | 86         | ARI            |\n",
    "| 42   | Trystan Colon     | 2.25        | 18         | BAL            |\n",
    "| 43   | Ryan McCollum     | 4.03        | 2          | DET            |\n",
    "| 44   | J.C. Hassenauer   | 4.93        | 10         | PIT            |\n",
    "| 45   | Trey Hill         | 5.44        | 1          | CIN            |\n",
    "| 46   | Aaron Brewer      | 5.68        | 5          | TEN            |"
   ]
  },
  {
   "cell_type": "markdown",
   "id": "80f67539-deda-4b33-a66b-24ebebef19a7",
   "metadata": {},
   "source": [
    "#### The histograph below shows the number of centers in the given range of penetration value. The majority of centers had an average penetration of -2 and 2 yards, with 20/46 centers averaging just over 0 yards. The mean was 0.35 yards, and the median was 0.17 yards. "
   ]
  },
  {
   "cell_type": "markdown",
   "id": "3eb27e2d-ea5c-42b3-9596-e5605ede822d",
   "metadata": {},
   "source": [
    "<img src=\"histo_avg_pen.png\" width=\"800\" height=\"400\">"
   ]
  },
  {
   "cell_type": "markdown",
   "id": "243fa9b4-3fce-4cf8-b426-050357eda23d",
   "metadata": {},
   "source": [
    "####  A coach or general manager could use this data to compare centers across the league. A coach would be able to identify, to a high degree of precision, centers with comparable penetration scores. The average penetration could also be used determine if a center is performing above or below the league average. Further, a coach could compare a center’s penetration score on a week to week basis against the center’s historical average to determine performance for a particular week. Further, weekly scores could be graphed to identify trends throughout the season. Penetration could also be broken down by the type of play, offensive formation, defensive formation, and more. \n",
    "\n",
    "#### Lastly, while not initially intended as part of this project, datasets were created that enable visual tracking of a center and the defender on a play-by-play basis. This makes it possible to evaluate a center’s movement against a defender on each play. A coach could visually see how the center moved and potentially correct poor play. "
   ]
  },
  {
   "cell_type": "markdown",
   "id": "04cae76c-f0d6-4183-9c71-45bc329f59f5",
   "metadata": {},
   "source": [
    "<img src=\"scatter1.png\" width=\"800\" height=\"400\">"
   ]
  },
  {
   "cell_type": "markdown",
   "id": "f1416906-2551-4a3c-b3ed-96c03d19dbfb",
   "metadata": {},
   "source": [
    "<img src=\"scatter2.png\" width=\"800\" height=\"400\">"
   ]
  },
  {
   "cell_type": "markdown",
   "id": "183b9a58-d26a-45df-94c6-0f3af9fa07aa",
   "metadata": {},
   "source": [
    "## Analysis\n",
    "\n",
    "#### The accuracy of result bears discussion. Direct evaluation of results was not possible due to a lack of comparable metrics found during a Google search. Additionally, only 8 games of 2021 was used versus a full season. A review centers listed on pff.com’s 2022 NFL Center Ranking and Tiers did not seem to reflect the average penetration score. This is not entirely unexpected as average penetration is an extremely specific measurement and would not be used to assess overall center performance.\n",
    "\n",
    "#### In consideration of accuracy of scoring a couple issues stand out. First, this model does not take into consideration double teams. This model was also based on the assumption that whoever is closest to the center 0.3 seconds after the snap was who the center is blocking. This time period after the snap may need to be adjusted up to increase the chance of who the center is blocking. However, increasing the measurement period (i.e., 0.5 seconds after the snap) could decrease the true measurement of how far a defender is able to penetrate the pocket. Additionally, while reviewing individual plays on scatterplots (above), it is clear that the wrong defender was occasionally identified as the pattern of movement for the center did not match the blocker.\n",
    "\n",
    "#### There is also the issue of multiple centers being present in the data on a particular play. Removal of these “duplicate” center lowers the average and possibly even removes centers from the calculations. Lastly, as noted previously, defensive backs were not included.\n",
    "\n",
    "#### Due to these considerations, this penetration metric should be viewed as a “rough” measurement of performance. However, there is significant potential with adjustments to the model.\n",
    "\n",
    "## Conclusion\n",
    "\n",
    "#### The goal of this project was to identify a novel metric that measures performance of the offensive line on pass plays. Measuring the amount of penetration a defender achieves against a center was selected due to the potential impact on quarterback play. This penetration metric can be used by coaches or staff to compare one center against every other center in the league, or the center’s own play over the course of the season, or even performance over the course of a single game. This has implications for free agency, coaching technique, and even strength and conditioning training. \n"
   ]
  },
  {
   "cell_type": "markdown",
   "id": "361f73d3-ba71-48f3-9de3-5bd914ea3888",
   "metadata": {},
   "source": [
    "# Appendix (code)"
   ]
  },
  {
   "cell_type": "code",
   "execution_count": 1,
   "id": "2e70f8ab-1eac-42fb-a19e-35b0d5ebabd5",
   "metadata": {},
   "outputs": [],
   "source": [
    "import numpy as np\n",
    "import pandas as pd\n",
    "import dtale as dt\n",
    "import seaborn as sns; sns.set()\n",
    "import warnings\n",
    "warnings.filterwarnings('ignore')"
   ]
  },
  {
   "cell_type": "markdown",
   "id": "3b666b6b-19bd-4cea-a5d0-0c196c98392d",
   "metadata": {},
   "source": [
    "### Load Data sets from Kaggle"
   ]
  },
  {
   "cell_type": "code",
   "execution_count": 2,
   "id": "26cd2af9-1ec2-4b08-8e68-8612897e2a7a",
   "metadata": {},
   "outputs": [],
   "source": [
    "games = pd.read_csv(\"games.csv\")\n",
    "scout = pd.read_csv(\"pffScoutingData.csv\")\n",
    "players = pd.read_csv(\"players.csv\")\n",
    "plays = pd.read_csv(\"plays.csv\")\n",
    "week1 = pd.read_csv(\"week1.csv\")\n",
    "week2 = pd.read_csv(\"week2.csv\")\n",
    "week3 = pd.read_csv(\"week3.csv\")\n",
    "week4 = pd.read_csv(\"week4.csv\")\n",
    "week5 = pd.read_csv(\"week5.csv\")\n",
    "week6 = pd.read_csv(\"week6.csv\")\n",
    "week7 = pd.read_csv(\"week7.csv\")\n",
    "week8 = pd.read_csv(\"week8.csv\")"
   ]
  },
  {
   "cell_type": "markdown",
   "id": "561efdec-fbae-4baf-874c-5f5664763a3c",
   "metadata": {},
   "source": [
    "# Hypothesis: A high-performing offensive lineman will engage a defensive lineman in a block for a longer period of time than average."
   ]
  },
  {
   "cell_type": "markdown",
   "id": "f0c95e61-b41f-498a-b6ad-f477006e552c",
   "metadata": {},
   "source": [
    "## Initial Task: combine data frames so that each game, play, player, and timeframe can be identified on a single row.\n",
    "\n",
    "1. Concat weeks 1-8\n",
    "2. convert game & week ID to string\n",
    "3. convert id to string for later concatenation\n",
    "4. create unique ID for game & play ID combined on weeks dataframe"
   ]
  },
  {
   "cell_type": "code",
   "execution_count": 3,
   "id": "124693f6-8c4d-4b8a-9ce0-f11d53bcbfdc",
   "metadata": {},
   "outputs": [
    {
     "data": {
      "text/plain": [
       "0    202109090097\n",
       "1    202109090097\n",
       "2    202109090097\n",
       "3    202109090097\n",
       "4    202109090097\n",
       "Name: game_play_id, dtype: object"
      ]
     },
     "execution_count": 3,
     "metadata": {},
     "output_type": "execute_result"
    }
   ],
   "source": [
    "frames = [week1, week2, week3, week4, week5, week6, week7, week8]\n",
    "\n",
    "week = pd.concat(frames)\n",
    "\n",
    "#convert id to string for later concatenation\n",
    "players[['officialPosition']] = players[['officialPosition']].astype(str)\n",
    "\n",
    "week[['gameId', 'playId','frameId']] = week[['gameId', 'playId', 'frameId']].astype(str)\n",
    "\n",
    "#create unique ID for game& play ID combined\n",
    "week['game_play_id'] = week['gameId']+week['playId']\n",
    "week['game_play_id'].head(5)"
   ]
  },
  {
   "cell_type": "code",
   "execution_count": 4,
   "id": "09231bc3-485d-4827-bb62-6b8d41b177b8",
   "metadata": {
    "tags": []
   },
   "outputs": [
    {
     "data": {
      "text/plain": [
       "(8314178, 10)"
      ]
     },
     "execution_count": 4,
     "metadata": {},
     "output_type": "execute_result"
    }
   ],
   "source": [
    "week = week.drop(['jerseyNumber','team', 's', 'a', 'dis', 'o', 'dir'], axis=1)\n",
    "week.shape"
   ]
  },
  {
   "cell_type": "markdown",
   "id": "1fbc57a1-72a7-40af-9c30-becd765bb83a",
   "metadata": {},
   "source": [
    "## Create game and play ID on plays dataframe"
   ]
  },
  {
   "cell_type": "code",
   "execution_count": 5,
   "id": "c4dedb03-0666-4f40-91c8-11f576c6dd1c",
   "metadata": {},
   "outputs": [
    {
     "data": {
      "text/html": [
       "<div>\n",
       "<style scoped>\n",
       "    .dataframe tbody tr th:only-of-type {\n",
       "        vertical-align: middle;\n",
       "    }\n",
       "\n",
       "    .dataframe tbody tr th {\n",
       "        vertical-align: top;\n",
       "    }\n",
       "\n",
       "    .dataframe thead th {\n",
       "        text-align: right;\n",
       "    }\n",
       "</style>\n",
       "<table border=\"1\" class=\"dataframe\">\n",
       "  <thead>\n",
       "    <tr style=\"text-align: right;\">\n",
       "      <th></th>\n",
       "      <th>gameId</th>\n",
       "      <th>playId</th>\n",
       "      <th>playDescription</th>\n",
       "      <th>quarter</th>\n",
       "      <th>down</th>\n",
       "      <th>yardsToGo</th>\n",
       "      <th>possessionTeam</th>\n",
       "      <th>defensiveTeam</th>\n",
       "      <th>yardlineSide</th>\n",
       "      <th>yardlineNumber</th>\n",
       "      <th>...</th>\n",
       "      <th>absoluteYardlineNumber</th>\n",
       "      <th>offenseFormation</th>\n",
       "      <th>personnelO</th>\n",
       "      <th>defendersInBox</th>\n",
       "      <th>personnelD</th>\n",
       "      <th>dropBackType</th>\n",
       "      <th>pff_playAction</th>\n",
       "      <th>pff_passCoverage</th>\n",
       "      <th>pff_passCoverageType</th>\n",
       "      <th>game_play_id</th>\n",
       "    </tr>\n",
       "  </thead>\n",
       "  <tbody>\n",
       "    <tr>\n",
       "      <th>0</th>\n",
       "      <td>2021090900</td>\n",
       "      <td>97</td>\n",
       "      <td>(13:33) (Shotgun) T.Brady pass incomplete deep...</td>\n",
       "      <td>1</td>\n",
       "      <td>3</td>\n",
       "      <td>2</td>\n",
       "      <td>TB</td>\n",
       "      <td>DAL</td>\n",
       "      <td>TB</td>\n",
       "      <td>33</td>\n",
       "      <td>...</td>\n",
       "      <td>43.0</td>\n",
       "      <td>SHOTGUN</td>\n",
       "      <td>1 RB, 1 TE, 3 WR</td>\n",
       "      <td>6.0</td>\n",
       "      <td>4 DL, 2 LB, 5 DB</td>\n",
       "      <td>TRADITIONAL</td>\n",
       "      <td>0</td>\n",
       "      <td>Cover-1</td>\n",
       "      <td>Man</td>\n",
       "      <td>202109090097</td>\n",
       "    </tr>\n",
       "    <tr>\n",
       "      <th>1</th>\n",
       "      <td>2021090900</td>\n",
       "      <td>137</td>\n",
       "      <td>(13:18) (Shotgun) D.Prescott pass deep left to...</td>\n",
       "      <td>1</td>\n",
       "      <td>1</td>\n",
       "      <td>10</td>\n",
       "      <td>DAL</td>\n",
       "      <td>TB</td>\n",
       "      <td>DAL</td>\n",
       "      <td>2</td>\n",
       "      <td>...</td>\n",
       "      <td>108.0</td>\n",
       "      <td>EMPTY</td>\n",
       "      <td>1 RB, 2 TE, 2 WR</td>\n",
       "      <td>6.0</td>\n",
       "      <td>4 DL, 4 LB, 3 DB</td>\n",
       "      <td>TRADITIONAL</td>\n",
       "      <td>0</td>\n",
       "      <td>Cover-3</td>\n",
       "      <td>Zone</td>\n",
       "      <td>2021090900137</td>\n",
       "    </tr>\n",
       "    <tr>\n",
       "      <th>2</th>\n",
       "      <td>2021090900</td>\n",
       "      <td>187</td>\n",
       "      <td>(12:23) (Shotgun) D.Prescott pass short middle...</td>\n",
       "      <td>1</td>\n",
       "      <td>2</td>\n",
       "      <td>6</td>\n",
       "      <td>DAL</td>\n",
       "      <td>TB</td>\n",
       "      <td>DAL</td>\n",
       "      <td>34</td>\n",
       "      <td>...</td>\n",
       "      <td>76.0</td>\n",
       "      <td>SHOTGUN</td>\n",
       "      <td>0 RB, 2 TE, 3 WR</td>\n",
       "      <td>6.0</td>\n",
       "      <td>3 DL, 3 LB, 5 DB</td>\n",
       "      <td>TRADITIONAL</td>\n",
       "      <td>0</td>\n",
       "      <td>Cover-3</td>\n",
       "      <td>Zone</td>\n",
       "      <td>2021090900187</td>\n",
       "    </tr>\n",
       "    <tr>\n",
       "      <th>3</th>\n",
       "      <td>2021090900</td>\n",
       "      <td>282</td>\n",
       "      <td>(9:56) D.Prescott pass incomplete deep left to...</td>\n",
       "      <td>1</td>\n",
       "      <td>1</td>\n",
       "      <td>10</td>\n",
       "      <td>DAL</td>\n",
       "      <td>TB</td>\n",
       "      <td>TB</td>\n",
       "      <td>39</td>\n",
       "      <td>...</td>\n",
       "      <td>49.0</td>\n",
       "      <td>SINGLEBACK</td>\n",
       "      <td>1 RB, 2 TE, 2 WR</td>\n",
       "      <td>6.0</td>\n",
       "      <td>4 DL, 3 LB, 4 DB</td>\n",
       "      <td>TRADITIONAL</td>\n",
       "      <td>1</td>\n",
       "      <td>Cover-3</td>\n",
       "      <td>Zone</td>\n",
       "      <td>2021090900282</td>\n",
       "    </tr>\n",
       "    <tr>\n",
       "      <th>4</th>\n",
       "      <td>2021090900</td>\n",
       "      <td>349</td>\n",
       "      <td>(9:46) (Shotgun) D.Prescott pass incomplete sh...</td>\n",
       "      <td>1</td>\n",
       "      <td>3</td>\n",
       "      <td>15</td>\n",
       "      <td>DAL</td>\n",
       "      <td>TB</td>\n",
       "      <td>TB</td>\n",
       "      <td>44</td>\n",
       "      <td>...</td>\n",
       "      <td>54.0</td>\n",
       "      <td>SHOTGUN</td>\n",
       "      <td>1 RB, 1 TE, 3 WR</td>\n",
       "      <td>7.0</td>\n",
       "      <td>3 DL, 4 LB, 4 DB</td>\n",
       "      <td>TRADITIONAL</td>\n",
       "      <td>0</td>\n",
       "      <td>Cover-3</td>\n",
       "      <td>Zone</td>\n",
       "      <td>2021090900349</td>\n",
       "    </tr>\n",
       "  </tbody>\n",
       "</table>\n",
       "<p>5 rows × 33 columns</p>\n",
       "</div>"
      ],
      "text/plain": [
       "       gameId playId                                    playDescription  \\\n",
       "0  2021090900     97  (13:33) (Shotgun) T.Brady pass incomplete deep...   \n",
       "1  2021090900    137  (13:18) (Shotgun) D.Prescott pass deep left to...   \n",
       "2  2021090900    187  (12:23) (Shotgun) D.Prescott pass short middle...   \n",
       "3  2021090900    282  (9:56) D.Prescott pass incomplete deep left to...   \n",
       "4  2021090900    349  (9:46) (Shotgun) D.Prescott pass incomplete sh...   \n",
       "\n",
       "   quarter  down  yardsToGo possessionTeam defensiveTeam yardlineSide  \\\n",
       "0        1     3          2             TB           DAL           TB   \n",
       "1        1     1         10            DAL            TB          DAL   \n",
       "2        1     2          6            DAL            TB          DAL   \n",
       "3        1     1         10            DAL            TB           TB   \n",
       "4        1     3         15            DAL            TB           TB   \n",
       "\n",
       "   yardlineNumber  ... absoluteYardlineNumber  offenseFormation  \\\n",
       "0              33  ...                   43.0           SHOTGUN   \n",
       "1               2  ...                  108.0             EMPTY   \n",
       "2              34  ...                   76.0           SHOTGUN   \n",
       "3              39  ...                   49.0        SINGLEBACK   \n",
       "4              44  ...                   54.0           SHOTGUN   \n",
       "\n",
       "         personnelO defendersInBox        personnelD  dropBackType  \\\n",
       "0  1 RB, 1 TE, 3 WR            6.0  4 DL, 2 LB, 5 DB   TRADITIONAL   \n",
       "1  1 RB, 2 TE, 2 WR            6.0  4 DL, 4 LB, 3 DB   TRADITIONAL   \n",
       "2  0 RB, 2 TE, 3 WR            6.0  3 DL, 3 LB, 5 DB   TRADITIONAL   \n",
       "3  1 RB, 2 TE, 2 WR            6.0  4 DL, 3 LB, 4 DB   TRADITIONAL   \n",
       "4  1 RB, 1 TE, 3 WR            7.0  3 DL, 4 LB, 4 DB   TRADITIONAL   \n",
       "\n",
       "   pff_playAction pff_passCoverage  pff_passCoverageType   game_play_id  \n",
       "0               0          Cover-1                   Man   202109090097  \n",
       "1               0          Cover-3                  Zone  2021090900137  \n",
       "2               0          Cover-3                  Zone  2021090900187  \n",
       "3               1          Cover-3                  Zone  2021090900282  \n",
       "4               0          Cover-3                  Zone  2021090900349  \n",
       "\n",
       "[5 rows x 33 columns]"
      ]
     },
     "execution_count": 5,
     "metadata": {},
     "output_type": "execute_result"
    }
   ],
   "source": [
    "plays[['gameId', 'playId']] = plays[['gameId', 'playId']].astype(str)\n",
    "\n",
    "plays['game_play_id'] = plays['gameId']+plays['playId']\n",
    "plays.head(5)"
   ]
  },
  {
   "cell_type": "code",
   "execution_count": 6,
   "id": "6d8ba0b2-0382-4499-b570-8f35b3c4b63d",
   "metadata": {},
   "outputs": [
    {
     "data": {
      "text/plain": [
       "(8557, 33)"
      ]
     },
     "execution_count": 6,
     "metadata": {},
     "output_type": "execute_result"
    }
   ],
   "source": [
    "plays.shape"
   ]
  },
  {
   "cell_type": "markdown",
   "id": "48290459-bdcf-4f2a-8dca-47140cc63dda",
   "metadata": {},
   "source": [
    "### Create function to view data in dtale quickly "
   ]
  },
  {
   "cell_type": "code",
   "execution_count": 7,
   "id": "611ffb6f-27be-42d8-a581-83edb5e182d8",
   "metadata": {},
   "outputs": [],
   "source": [
    "import dtale as dt\n",
    "\n",
    "def dtale(data):\n",
    "    d = dt.show(data)\n",
    "    d.open_browser()\n",
    "    \n",
    "#dtale(week)"
   ]
  },
  {
   "cell_type": "code",
   "execution_count": 8,
   "id": "a64c5d8b-4252-4962-a103-3db212ea13ab",
   "metadata": {},
   "outputs": [
    {
     "data": {
      "text/plain": [
       "(8314178, 10)"
      ]
     },
     "execution_count": 8,
     "metadata": {},
     "output_type": "execute_result"
    }
   ],
   "source": [
    "week.shape"
   ]
  },
  {
   "cell_type": "code",
   "execution_count": null,
   "id": "585ed6c2-1686-4886-9806-8742688071a7",
   "metadata": {},
   "outputs": [],
   "source": []
  },
  {
   "cell_type": "markdown",
   "id": "c9ba49c3-ab51-4b94-a5d7-fa1fdccdc351",
   "metadata": {},
   "source": [
    "### Merge player df with weeks df using column player ID and add player position"
   ]
  },
  {
   "cell_type": "code",
   "execution_count": 9,
   "id": "ce680454-c3f7-460c-a531-4a055682223a",
   "metadata": {},
   "outputs": [
    {
     "data": {
      "text/html": [
       "<div>\n",
       "<style scoped>\n",
       "    .dataframe tbody tr th:only-of-type {\n",
       "        vertical-align: middle;\n",
       "    }\n",
       "\n",
       "    .dataframe tbody tr th {\n",
       "        vertical-align: top;\n",
       "    }\n",
       "\n",
       "    .dataframe thead th {\n",
       "        text-align: right;\n",
       "    }\n",
       "</style>\n",
       "<table border=\"1\" class=\"dataframe\">\n",
       "  <thead>\n",
       "    <tr style=\"text-align: right;\">\n",
       "      <th></th>\n",
       "      <th>gameId</th>\n",
       "      <th>playId</th>\n",
       "      <th>nflId</th>\n",
       "      <th>frameId</th>\n",
       "      <th>time</th>\n",
       "      <th>playDirection</th>\n",
       "      <th>x</th>\n",
       "      <th>y</th>\n",
       "      <th>event</th>\n",
       "      <th>game_play_id</th>\n",
       "      <th>officialPosition</th>\n",
       "    </tr>\n",
       "  </thead>\n",
       "  <tbody>\n",
       "    <tr>\n",
       "      <th>0</th>\n",
       "      <td>2021090900</td>\n",
       "      <td>97</td>\n",
       "      <td>25511.0</td>\n",
       "      <td>1</td>\n",
       "      <td>2021-09-10T00:26:31.100</td>\n",
       "      <td>right</td>\n",
       "      <td>37.77</td>\n",
       "      <td>24.22</td>\n",
       "      <td>None</td>\n",
       "      <td>202109090097</td>\n",
       "      <td>QB</td>\n",
       "    </tr>\n",
       "    <tr>\n",
       "      <th>1</th>\n",
       "      <td>2021090900</td>\n",
       "      <td>97</td>\n",
       "      <td>25511.0</td>\n",
       "      <td>2</td>\n",
       "      <td>2021-09-10T00:26:31.200</td>\n",
       "      <td>right</td>\n",
       "      <td>37.78</td>\n",
       "      <td>24.22</td>\n",
       "      <td>None</td>\n",
       "      <td>202109090097</td>\n",
       "      <td>QB</td>\n",
       "    </tr>\n",
       "    <tr>\n",
       "      <th>2</th>\n",
       "      <td>2021090900</td>\n",
       "      <td>97</td>\n",
       "      <td>25511.0</td>\n",
       "      <td>3</td>\n",
       "      <td>2021-09-10T00:26:31.300</td>\n",
       "      <td>right</td>\n",
       "      <td>37.78</td>\n",
       "      <td>24.24</td>\n",
       "      <td>None</td>\n",
       "      <td>202109090097</td>\n",
       "      <td>QB</td>\n",
       "    </tr>\n",
       "    <tr>\n",
       "      <th>3</th>\n",
       "      <td>2021090900</td>\n",
       "      <td>97</td>\n",
       "      <td>25511.0</td>\n",
       "      <td>4</td>\n",
       "      <td>2021-09-10T00:26:31.400</td>\n",
       "      <td>right</td>\n",
       "      <td>37.73</td>\n",
       "      <td>24.25</td>\n",
       "      <td>None</td>\n",
       "      <td>202109090097</td>\n",
       "      <td>QB</td>\n",
       "    </tr>\n",
       "    <tr>\n",
       "      <th>4</th>\n",
       "      <td>2021090900</td>\n",
       "      <td>97</td>\n",
       "      <td>25511.0</td>\n",
       "      <td>5</td>\n",
       "      <td>2021-09-10T00:26:31.500</td>\n",
       "      <td>right</td>\n",
       "      <td>37.69</td>\n",
       "      <td>24.26</td>\n",
       "      <td>None</td>\n",
       "      <td>202109090097</td>\n",
       "      <td>QB</td>\n",
       "    </tr>\n",
       "  </tbody>\n",
       "</table>\n",
       "</div>"
      ],
      "text/plain": [
       "       gameId playId    nflId frameId                     time playDirection  \\\n",
       "0  2021090900     97  25511.0       1  2021-09-10T00:26:31.100         right   \n",
       "1  2021090900     97  25511.0       2  2021-09-10T00:26:31.200         right   \n",
       "2  2021090900     97  25511.0       3  2021-09-10T00:26:31.300         right   \n",
       "3  2021090900     97  25511.0       4  2021-09-10T00:26:31.400         right   \n",
       "4  2021090900     97  25511.0       5  2021-09-10T00:26:31.500         right   \n",
       "\n",
       "       x      y event  game_play_id officialPosition  \n",
       "0  37.77  24.22  None  202109090097               QB  \n",
       "1  37.78  24.22  None  202109090097               QB  \n",
       "2  37.78  24.24  None  202109090097               QB  \n",
       "3  37.73  24.25  None  202109090097               QB  \n",
       "4  37.69  24.26  None  202109090097               QB  "
      ]
     },
     "execution_count": 9,
     "metadata": {},
     "output_type": "execute_result"
    }
   ],
   "source": [
    "player_position = players[['nflId','officialPosition']]\n",
    "\n",
    "weeks2 = pd.merge(week, player_position, \n",
    "                      on ='nflId', \n",
    "                      how ='inner')\n",
    "\n",
    "weeks2A = weeks2 # save copy for later use \n",
    "weeks2.head()"
   ]
  },
  {
   "cell_type": "markdown",
   "id": "6ba6fb08-2185-4744-9cf4-83821c6f471b",
   "metadata": {},
   "source": [
    "### Convert play data to float for math"
   ]
  },
  {
   "cell_type": "code",
   "execution_count": 10,
   "id": "0e4eb5ec-ef2c-4688-99d5-49605191a141",
   "metadata": {},
   "outputs": [
    {
     "data": {
      "text/plain": [
       "dtype('float16')"
      ]
     },
     "execution_count": 10,
     "metadata": {},
     "output_type": "execute_result"
    }
   ],
   "source": [
    "weeks2[[\"x\", \"y\"]] = weeks2[[\"x\", \"y\"]].astype('float16')\n",
    "weeks2['x'].dtype"
   ]
  },
  {
   "cell_type": "markdown",
   "id": "41f03729-7cd7-4bd2-886d-17c3cc51e8ca",
   "metadata": {},
   "source": [
    "### Add play data"
   ]
  },
  {
   "cell_type": "markdown",
   "id": "5819a543-5949-4dc9-9a22-3e30b5a66013",
   "metadata": {},
   "source": [
    "## Merge play df with weeks df"
   ]
  },
  {
   "cell_type": "code",
   "execution_count": 11,
   "id": "bc91aa59-7c5d-4f99-b834-f5354ae5527f",
   "metadata": {},
   "outputs": [
    {
     "data": {
      "text/plain": [
       "(7952692, 22)"
      ]
     },
     "execution_count": 11,
     "metadata": {},
     "output_type": "execute_result"
    }
   ],
   "source": [
    "#merge plays with weeks\n",
    "pass_plays = plays[['game_play_id','offenseFormation', 'pff_playAction', 'defendersInBox','passResult','prePenaltyPlayResult', 'personnelO','personnelD','dropBackType',\n",
    "                    'pff_passCoverage','pff_passCoverageType']]\n",
    "\n",
    "\n",
    "weeks3 = pd.merge(weeks2, pass_plays, \n",
    "                      on ='game_play_id', \n",
    "                      how ='inner')\n",
    "\n",
    "weeks3[['nflId', 'frameId']] = weeks3[['nflId', 'frameId']].astype(str)\n",
    "weeks3['game_play_frame_id'] = weeks3['gameId']+weeks3['playId']+weeks3['frameId']\n",
    "\n",
    "\n",
    "\n",
    "weeks3.shape"
   ]
  },
  {
   "cell_type": "markdown",
   "id": "122dbb09-90db-4aee-89a7-2b7562e69780",
   "metadata": {},
   "source": [
    "## Filter to frameId 9, which is .3 seconds after a snap"
   ]
  },
  {
   "cell_type": "code",
   "execution_count": 12,
   "id": "e33cf0b4-0019-4ec8-a82c-4f5a287d4a3e",
   "metadata": {},
   "outputs": [],
   "source": [
    "weeks3 = weeks3.loc[weeks3['frameId'] == '9']"
   ]
  },
  {
   "cell_type": "code",
   "execution_count": 13,
   "id": "d1047358-13d7-40e5-8e4d-c160cc2170d3",
   "metadata": {},
   "outputs": [
    {
     "data": {
      "text/plain": [
       "C     101640\n",
       "I      60610\n",
       "S      11946\n",
       "R       9878\n",
       "IN      4180\n",
       "Name: passResult, dtype: int64"
      ]
     },
     "execution_count": 13,
     "metadata": {},
     "output_type": "execute_result"
    }
   ],
   "source": [
    "weeks3['passResult'].value_counts()"
   ]
  },
  {
   "cell_type": "markdown",
   "id": "d9d09cfa-fc02-460d-a1e7-e2dab9618e1f",
   "metadata": {},
   "source": [
    "### Drop a couple columns "
   ]
  },
  {
   "cell_type": "markdown",
   "id": "26b45c94-8ab2-4c7d-b31b-8cf13af37e9b",
   "metadata": {},
   "source": [
    "### create position + NFLId to ID player by position and UID"
   ]
  },
  {
   "cell_type": "code",
   "execution_count": 14,
   "id": "85d1e910-558b-4420-9730-aa6f68abdd40",
   "metadata": {},
   "outputs": [],
   "source": [
    "weeks3['position+NFL_ID'] = weeks3['officialPosition'] + weeks3['nflId']"
   ]
  },
  {
   "cell_type": "markdown",
   "id": "130ceafe-8f9a-4f12-8c00-1fc0b201e394",
   "metadata": {},
   "source": [
    "### Split out O-line players and D-line players into separate dataframes so they can be recombined on the same row\n",
    "### Goal: To find the euclidean distance between the center and each defensive player. The player with the shortest distance will be the player the center actually bloacked. "
   ]
  },
  {
   "cell_type": "code",
   "execution_count": 15,
   "id": "37149199-5c00-40b8-b692-2a5a4bc270b2",
   "metadata": {},
   "outputs": [
    {
     "data": {
      "text/plain": [
       "WR     210\n",
       "CB     192\n",
       "DE     142\n",
       "OLB    136\n",
       "RB     126\n",
       "T      122\n",
       "TE     121\n",
       "DT     114\n",
       "G       99\n",
       "ILB     81\n",
       "FS      72\n",
       "SS      69\n",
       "QB      60\n",
       "C       55\n",
       "NT      34\n",
       "MLB     27\n",
       "FB      15\n",
       "DB       2\n",
       "LB       2\n",
       "Name: officialPosition, dtype: int64"
      ]
     },
     "execution_count": 15,
     "metadata": {},
     "output_type": "execute_result"
    }
   ],
   "source": [
    "player_position['officialPosition'].value_counts()"
   ]
  },
  {
   "cell_type": "code",
   "execution_count": 16,
   "id": "bcaee907-dfba-4d6f-8ebf-74536b8bc3a6",
   "metadata": {},
   "outputs": [],
   "source": [
    "C_df = weeks3.loc[(weeks3['officialPosition'] == 'C')] \n",
    "\n",
    "\n",
    "NT_df = weeks3.loc[(weeks3['officialPosition'] == 'NT')] \n",
    "DT_df = weeks3.loc[(weeks3['officialPosition'] == 'DT')] \n",
    "DE_df = weeks3.loc[(weeks3['officialPosition'] == 'DE')]\n",
    "OLB_df = weeks3.loc[(weeks3['officialPosition'] == 'OLB')]\n",
    "MLB_df = weeks3.loc[(weeks3['officialPosition'] == 'MLB')]\n",
    "LB_df = weeks3.loc[(weeks3['officialPosition'] == 'LB')]\n",
    "ILB_df = weeks3.loc[(weeks3['officialPosition'] == 'ILB')]         "
   ]
  },
  {
   "cell_type": "code",
   "execution_count": 17,
   "id": "fbc3ff84-c23c-4310-9743-ffcd5e78a259",
   "metadata": {},
   "outputs": [],
   "source": [
    "positions = [C_df, NT_df, DT_df, DE_df, OLB_df, MLB_df, LB_df, ILB_df]"
   ]
  },
  {
   "cell_type": "markdown",
   "id": "5edd24e6-8a89-4d98-ba26-6bd83a80d6e4",
   "metadata": {},
   "source": [
    "### Add position prefix to each (x, y) coordinate to identify player/position coordinates\n",
    "\n",
    "### Note: At this point each position has its own dataframe "
   ]
  },
  {
   "cell_type": "code",
   "execution_count": 18,
   "id": "b65c8cd9-a8be-4038-8650-f0fd22d4a1f7",
   "metadata": {},
   "outputs": [
    {
     "data": {
      "text/plain": [
       "[None, None, None, None, None, None, None, None]"
      ]
     },
     "execution_count": 18,
     "metadata": {},
     "output_type": "execute_result"
    }
   ],
   "source": [
    "pos_col_name = ['C_', 'NT_', 'DT_', \"DE_\", 'OLB_', 'MLB_', 'LB_', 'ILB_']#prefix\n",
    "\n",
    "\n",
    "[_df.rename(columns={'x': prefix+'x'}, inplace=True)\n",
    " for prefix, _df in zip(pos_col_name, positions)]\n",
    "\n",
    "[_df.rename(columns={'y': prefix+'y'}, inplace=True)\n",
    " for prefix, _df in zip(pos_col_name, positions)]\n",
    "\n"
   ]
  },
  {
   "cell_type": "markdown",
   "id": "29c76a14-9685-4716-a71d-0636f184cbc0",
   "metadata": {},
   "source": [
    "### Drop a couple unnecessary columns"
   ]
  },
  {
   "cell_type": "code",
   "execution_count": 19,
   "id": "9539d527-e177-4efb-86a1-eb840cc873c4",
   "metadata": {},
   "outputs": [],
   "source": [
    "drop_col = ['gameId','playId', 'frameId', 'time']\n",
    "\n",
    "for p in positions:\n",
    "    for c in drop_col:\n",
    "        p.drop(columns=[c], inplace=True)\n"
   ]
  },
  {
   "cell_type": "code",
   "execution_count": 20,
   "id": "ab51c78f-0c1d-40b1-895d-6afa14e28193",
   "metadata": {},
   "outputs": [
    {
     "name": "stdout",
     "output_type": "stream",
     "text": [
      "(8414, 19)\n",
      "(2952, 19)\n",
      "(9828, 19)\n",
      "(13646, 19)\n",
      "(12972, 19)\n",
      "(2895, 19)\n",
      "(5, 19)\n",
      "(8516, 19)\n"
     ]
    }
   ],
   "source": [
    "#positions = [OL_df, DT_df, DE_df, OLB_df, MLB_df, LB_df, IB_df]\n",
    "for p in positions:\n",
    "    print(p.shape)"
   ]
  },
  {
   "cell_type": "markdown",
   "id": "6957e8ae-0bd5-40e2-8d05-075569a63be1",
   "metadata": {},
   "source": [
    "## Add nfl ID to each defensive dataframe to use group by later"
   ]
  },
  {
   "cell_type": "code",
   "execution_count": 21,
   "id": "7bf239f6-f70c-4822-8c99-8e5105ab24e4",
   "metadata": {},
   "outputs": [],
   "source": [
    "defenders = [ NT_df, DT_df, DE_df, OLB_df, MLB_df, LB_df, ILB_df]\n",
    "pos_nfl_col= ['NT_nfl_ID', 'DT_nfl_ID', 'DE_nfl_ID', 'OLB_nfl_ID', 'MLB_nfl_ID', 'LB_nfl_ID', 'ILB_nfl_ID']\n",
    "\n",
    "def defense_NFL_ID(df, col_name):\n",
    "    df[col_name] = df['position+NFL_ID']\n",
    "    \n",
    "for d, c in zip(defenders, pos_nfl_col):\n",
    "    defense_NFL_ID(d, c)"
   ]
  },
  {
   "cell_type": "markdown",
   "id": "9797d3fb-ae3d-4b43-9010-54c12e2c2fd4",
   "metadata": {},
   "source": [
    "### Combine all dataframes in weeks to single row based on master ID. Drop duplicate columns."
   ]
  },
  {
   "cell_type": "code",
   "execution_count": 22,
   "id": "8e20717f-dedc-474b-9988-65f3eae3abbe",
   "metadata": {},
   "outputs": [],
   "source": [
    "drop_cols2 = ['defendersInBox', 'dropBackType', 'event', 'offenseFormation', 'officialPosition', 'passResult', \n",
    "              'personnelD', 'personnelO', 'pff_passCoverageType', 'pff_passCoverage', \n",
    "              'pff_playAction', 'playDirection', 'prePenaltyPlayResult','position+NFL_ID', 'nflId','game_play_id']\n",
    "\n",
    "\n",
    "\n",
    "for d in defenders:\n",
    "    for c in drop_cols2:\n",
    "        d.drop(columns=[c], inplace=True)"
   ]
  },
  {
   "cell_type": "markdown",
   "id": "5cb7d6da-b7b6-4149-b201-69681fce48b5",
   "metadata": {},
   "source": [
    "## Merge each defender onto center, creating 7 dataframes with center and a defender position"
   ]
  },
  {
   "cell_type": "code",
   "execution_count": 23,
   "id": "6fdb696c-212e-4771-94d5-91fb9db1c3a6",
   "metadata": {},
   "outputs": [],
   "source": [
    "C_eb_DT = C_df.merge(DT_df,on='game_play_frame_id', how='left')\n"
   ]
  },
  {
   "cell_type": "code",
   "execution_count": 24,
   "id": "4e118cca-d8e9-4301-a584-82f4b77c3d04",
   "metadata": {},
   "outputs": [],
   "source": [
    "C_eb_DE = C_df.merge(DE_df,on='game_play_frame_id', how='left')"
   ]
  },
  {
   "cell_type": "code",
   "execution_count": 25,
   "id": "40bf504f-261a-4851-a95b-25bc0cd0aadd",
   "metadata": {},
   "outputs": [],
   "source": [
    "C_eb_OLB = C_df.merge(OLB_df,on='game_play_frame_id', how='left')"
   ]
  },
  {
   "cell_type": "code",
   "execution_count": 26,
   "id": "d69d32b7-7bae-4e59-96d8-f2d2e5b41569",
   "metadata": {},
   "outputs": [],
   "source": [
    "C_eb_MLB = C_df.merge(MLB_df,on='game_play_frame_id', how='left')"
   ]
  },
  {
   "cell_type": "code",
   "execution_count": 27,
   "id": "418a42d7-d0ae-40a1-bd3c-beb9c0b13d3a",
   "metadata": {},
   "outputs": [],
   "source": [
    "C_eb_LB = C_df.merge(LB_df,on='game_play_frame_id', how='left')"
   ]
  },
  {
   "cell_type": "code",
   "execution_count": 28,
   "id": "bf779f71-f05e-4e12-a241-0f12ad648851",
   "metadata": {},
   "outputs": [],
   "source": [
    "C_eb_ILB = C_df.merge(ILB_df,on='game_play_frame_id', how='left')\n"
   ]
  },
  {
   "cell_type": "code",
   "execution_count": 29,
   "id": "51471475-4af4-457a-b5c6-b27bda15d8d7",
   "metadata": {},
   "outputs": [],
   "source": [
    "C_eb_NT = C_df.merge(NT_df,on='game_play_frame_id', how='left')"
   ]
  },
  {
   "cell_type": "code",
   "execution_count": 30,
   "id": "d30ebc01-6283-45c7-8360-130d4052e231",
   "metadata": {},
   "outputs": [],
   "source": [
    "eb = [C_eb_DT, C_eb_DE, C_eb_OLB, C_eb_MLB, C_eb_LB, C_eb_ILB, C_eb_NT]"
   ]
  },
  {
   "cell_type": "markdown",
   "id": "3ad6a975-c232-45bf-ad58-2a894a7cd72e",
   "metadata": {},
   "source": [
    "## Merging causes numerous duplicate columns that need to be dropped"
   ]
  },
  {
   "cell_type": "code",
   "execution_count": 31,
   "id": "33265fdc-bba8-45f4-a625-96074476acb9",
   "metadata": {},
   "outputs": [],
   "source": [
    "#drop duplicate columns except for 1 dataframe\n",
    "drop_eb = [C_eb_DE, C_eb_OLB, C_eb_MLB, C_eb_LB, C_eb_ILB, C_eb_NT]\n",
    "\n",
    "drop_cols4 = ['playDirection', 'C_x', 'C_y', 'event', 'officialPosition',\n",
    "       'offenseFormation', 'pff_playAction', 'defendersInBox', 'passResult',\n",
    "       'prePenaltyPlayResult', 'personnelO', 'personnelD', 'dropBackType',\n",
    "       'pff_passCoverage', 'pff_passCoverageType','game_play_id', 'position+NFL_ID','nflId']\n",
    "\n",
    "for d in drop_eb:\n",
    "    for c in drop_cols4:\n",
    "        d.drop(columns=[c], inplace=True)"
   ]
  },
  {
   "cell_type": "markdown",
   "id": "eb6d8fbe-c5c0-4da3-9a96-76195efba511",
   "metadata": {},
   "source": [
    "## Merge all 7 center and defender columns onto 1 dataframe"
   ]
  },
  {
   "cell_type": "code",
   "execution_count": 32,
   "id": "cd001e32-e92c-439b-8df4-b23fc70d0d0e",
   "metadata": {},
   "outputs": [],
   "source": [
    "C_eb = C_eb_DT.merge(C_eb_DE,on='game_play_frame_id', how='left')"
   ]
  },
  {
   "cell_type": "code",
   "execution_count": 33,
   "id": "45e98aed-ad2b-4259-9e54-12351ffc0722",
   "metadata": {},
   "outputs": [],
   "source": [
    "C_eb = C_eb.merge(C_eb_OLB,on='game_play_frame_id', how='left')"
   ]
  },
  {
   "cell_type": "code",
   "execution_count": 34,
   "id": "52958301-712a-479c-844b-1eb863ff8c79",
   "metadata": {},
   "outputs": [],
   "source": [
    "C_eb = C_eb.merge(C_eb_MLB,on='game_play_frame_id', how='left')"
   ]
  },
  {
   "cell_type": "code",
   "execution_count": 35,
   "id": "885af662-1034-4e26-bef9-e452ae56a34f",
   "metadata": {},
   "outputs": [],
   "source": [
    "C_eb = C_eb.merge(C_eb_LB,on='game_play_frame_id', how='left')                "
   ]
  },
  {
   "cell_type": "code",
   "execution_count": 36,
   "id": "3ac5b17a-235a-4db6-a5bc-103ba6d156b4",
   "metadata": {},
   "outputs": [],
   "source": [
    "C_eb = C_eb.merge(C_eb_ILB,on='game_play_frame_id', how='left')              "
   ]
  },
  {
   "cell_type": "code",
   "execution_count": 37,
   "id": "c6a3883b-266a-4cf3-ac02-1d56c10924a1",
   "metadata": {},
   "outputs": [],
   "source": [
    "C_eb = C_eb.merge(C_eb_NT,on='game_play_frame_id', how='left')"
   ]
  },
  {
   "cell_type": "code",
   "execution_count": 38,
   "id": "84cde5ea-7ced-443e-a710-cc83d2b2f11d",
   "metadata": {},
   "outputs": [],
   "source": [
    "def rename_col(df, x, y):\n",
    "    df.rename(columns={x:'O_x', y:'O_y'}, inplace=True)\n",
    "    \n",
    "rename_col(C_eb, \"C_x\", 'C_y')"
   ]
  },
  {
   "cell_type": "code",
   "execution_count": 39,
   "id": "b40de856-186e-43a3-b18f-710e4ef796d1",
   "metadata": {},
   "outputs": [],
   "source": [
    "frames = [C_eb,]\n",
    "eb = pd.concat(frames)"
   ]
  },
  {
   "cell_type": "markdown",
   "id": "2f8e78ef-3dc5-40ed-8b9d-08aff69d47af",
   "metadata": {},
   "source": [
    "## Find distance between each o-lineman and each defensive player .3 seconds after snap (frameId == '9')"
   ]
  },
  {
   "cell_type": "code",
   "execution_count": 40,
   "id": "274cec70-07ac-4a7a-a5d6-373aa2104ea3",
   "metadata": {},
   "outputs": [],
   "source": [
    "def euclidean_dist(col_name, def_x, def_y):\n",
    "    eb[col_name] = np.sqrt( (eb['O_x']-eb[def_x])**2 + (eb['O_y']-eb[def_y])**2)"
   ]
  },
  {
   "cell_type": "code",
   "execution_count": 41,
   "id": "ccc9457c-d728-4c6e-ad14-b480d1e3e611",
   "metadata": {},
   "outputs": [],
   "source": [
    "euclidean_dist('DT_dist','DT_x','DT_y')"
   ]
  },
  {
   "cell_type": "code",
   "execution_count": 42,
   "id": "e38f1879-06d3-44f6-b730-b6e3480724b1",
   "metadata": {},
   "outputs": [],
   "source": [
    "euclidean_dist('DE_dist','DE_x','DE_y')"
   ]
  },
  {
   "cell_type": "code",
   "execution_count": 43,
   "id": "71eed617-5df7-4255-8f5e-fdcdc4586ac2",
   "metadata": {},
   "outputs": [],
   "source": [
    "euclidean_dist('OLB_dist','OLB_x','OLB_y')"
   ]
  },
  {
   "cell_type": "code",
   "execution_count": 44,
   "id": "c7cd6376-acbb-45ac-bc41-7d6e441f061b",
   "metadata": {},
   "outputs": [],
   "source": [
    "euclidean_dist('MLB_dist','MLB_x','MLB_y')"
   ]
  },
  {
   "cell_type": "code",
   "execution_count": 45,
   "id": "a41af21f-9748-4dee-9579-22a6c9ff64c2",
   "metadata": {},
   "outputs": [],
   "source": [
    "euclidean_dist('LB_dist','LB_x','LB_y')"
   ]
  },
  {
   "cell_type": "code",
   "execution_count": 46,
   "id": "f554e917-1802-4fed-b6fd-27eb427c6b1e",
   "metadata": {},
   "outputs": [],
   "source": [
    "euclidean_dist('ILB_dist','ILB_x','ILB_y')"
   ]
  },
  {
   "cell_type": "code",
   "execution_count": 47,
   "id": "374e898d-a182-4c8d-9ee8-692fd27ad7cc",
   "metadata": {},
   "outputs": [],
   "source": [
    "euclidean_dist('NT_dist','NT_x','NT_y')"
   ]
  },
  {
   "cell_type": "markdown",
   "id": "7042268a-b198-4d4f-807c-ce97b0528b22",
   "metadata": {},
   "source": [
    "### Combine game_play_ID & position+NFL_ID to group by each center and average the distance. "
   ]
  },
  {
   "cell_type": "code",
   "execution_count": 48,
   "id": "7d8fb25a-2be4-4bf6-adb3-4f074b18813a",
   "metadata": {},
   "outputs": [],
   "source": [
    "eb['game_play_offPosition_nfl_ID'] = eb['game_play_id']+eb['position+NFL_ID']\n",
    "eb['game_play_frame_offPosition_nfl_ID'] = eb['game_play_frame_id']+eb['position+NFL_ID']"
   ]
  },
  {
   "cell_type": "code",
   "execution_count": 49,
   "id": "b77d35dc-fb5b-493c-b04d-9d78f108c4d6",
   "metadata": {},
   "outputs": [],
   "source": [
    "eb['game_play_offPosition_nfl_ID_DT_nfl_ID'] = eb['game_play_offPosition_nfl_ID'] + eb['DT_nfl_ID']\n",
    "\n",
    "DT_eb_dist2 = eb.groupby(['game_play_offPosition_nfl_ID','game_play_offPosition_nfl_ID_DT_nfl_ID','playDirection', 'event', 'officialPosition','offenseFormation', 'pff_playAction', \n",
    "            'defendersInBox', 'passResult', 'prePenaltyPlayResult', 'personnelO', 'personnelD', \n",
    "            'dropBackType', 'pff_passCoverage', 'pff_passCoverageType', 'DT_nfl_ID'],\n",
    "           as_index=False).agg({'DT_dist':'mean', 'DE_dist':'mean','OLB_dist':'mean','MLB_dist':'mean',\n",
    "                               'LB_dist':'mean','ILB_dist':'mean', 'NT_dist':'mean'})"
   ]
  },
  {
   "cell_type": "code",
   "execution_count": 50,
   "id": "7dacbf0c-b50d-4d09-9c57-701ac4120ae9",
   "metadata": {},
   "outputs": [],
   "source": [
    "eb['game_play_offPosition_nfl_ID_DE_nfl_ID'] = eb['game_play_offPosition_nfl_ID'] + eb['DE_nfl_ID']"
   ]
  },
  {
   "cell_type": "code",
   "execution_count": 51,
   "id": "923d3e44-78d7-4992-b8ed-c15cc84d39fd",
   "metadata": {},
   "outputs": [],
   "source": [
    "DE_eb_dist2 = eb.groupby(['game_play_offPosition_nfl_ID','game_play_offPosition_nfl_ID_DE_nfl_ID','playDirection', 'event', 'officialPosition','offenseFormation', 'pff_playAction', \n",
    "            'defendersInBox', 'passResult', 'prePenaltyPlayResult', 'personnelO', 'personnelD', \n",
    "            'dropBackType', 'pff_passCoverage', 'pff_passCoverageType','DE_nfl_ID'],\n",
    "           as_index=False).agg({'DT_dist':'mean', 'DE_dist':'mean','OLB_dist':'mean','MLB_dist':'mean',\n",
    "                               'LB_dist':'mean','ILB_dist':'mean', 'NT_dist':'mean'})"
   ]
  },
  {
   "cell_type": "code",
   "execution_count": 52,
   "id": "086e960e-36d8-4f53-afd3-f6aaa1531328",
   "metadata": {},
   "outputs": [],
   "source": [
    "eb['game_play_offPosition_nfl_ID_OLB_nfl_ID'] = eb['game_play_offPosition_nfl_ID'] + eb['OLB_nfl_ID']"
   ]
  },
  {
   "cell_type": "code",
   "execution_count": 53,
   "id": "a2d7c2f5-ad72-4aa8-b6b0-00cb6571d64f",
   "metadata": {},
   "outputs": [],
   "source": [
    "OLB_eb_dist2 = eb.groupby(['game_play_offPosition_nfl_ID','game_play_offPosition_nfl_ID_OLB_nfl_ID','playDirection', 'event', 'officialPosition','offenseFormation', 'pff_playAction', \n",
    "            'defendersInBox', 'passResult', 'prePenaltyPlayResult', 'personnelO', 'personnelD', \n",
    "            'dropBackType', 'pff_passCoverage', 'pff_passCoverageType', 'OLB_nfl_ID'],\n",
    "           as_index=False).agg({'DT_dist':'mean', 'DE_dist':'mean','OLB_dist':'mean','MLB_dist':'mean',\n",
    "                               'LB_dist':'mean','ILB_dist':'mean', 'NT_dist':'mean'})"
   ]
  },
  {
   "cell_type": "code",
   "execution_count": 54,
   "id": "3825ae62-8559-4b80-a563-b9dd9cba9874",
   "metadata": {},
   "outputs": [],
   "source": [
    "eb['game_play_offPosition_nfl_ID_MLB_nfl_ID'] = eb['game_play_offPosition_nfl_ID'] + eb['MLB_nfl_ID']"
   ]
  },
  {
   "cell_type": "code",
   "execution_count": 55,
   "id": "eb714c05-0f69-4cce-b42a-23c1b7838437",
   "metadata": {},
   "outputs": [],
   "source": [
    "MLB_eb_dist2 = eb.groupby(['game_play_offPosition_nfl_ID','game_play_offPosition_nfl_ID_MLB_nfl_ID','playDirection', 'event', 'officialPosition','offenseFormation', 'pff_playAction', \n",
    "            'defendersInBox', 'passResult', 'prePenaltyPlayResult', 'personnelO', 'personnelD', \n",
    "            'dropBackType', 'pff_passCoverage', 'pff_passCoverageType', 'MLB_nfl_ID'],\n",
    "           as_index=False).agg({'DT_dist':'mean', 'DE_dist':'mean','OLB_dist':'mean','MLB_dist':'mean',\n",
    "                               'LB_dist':'mean','ILB_dist':'mean', 'NT_dist':'mean'})"
   ]
  },
  {
   "cell_type": "code",
   "execution_count": 56,
   "id": "f76a442d-9e81-43a1-b2b4-6ed2b6f9f63e",
   "metadata": {},
   "outputs": [],
   "source": [
    "eb['game_play_offPosition_nfl_ID_ILB_nfl_ID'] = eb['game_play_offPosition_nfl_ID'] + eb['ILB_nfl_ID']\n"
   ]
  },
  {
   "cell_type": "code",
   "execution_count": 57,
   "id": "0b500ab5-a247-4bfe-a0c4-353d80ff7909",
   "metadata": {},
   "outputs": [],
   "source": [
    "ILB_eb_dist2 = eb.groupby(['game_play_offPosition_nfl_ID','game_play_offPosition_nfl_ID_ILB_nfl_ID','playDirection', 'event', 'officialPosition','offenseFormation', 'pff_playAction', \n",
    "            'defendersInBox', 'passResult', 'prePenaltyPlayResult', 'personnelO', 'personnelD', \n",
    "            'dropBackType', 'pff_passCoverage', 'pff_passCoverageType','ILB_nfl_ID'],\n",
    "           as_index=False).agg({'DT_dist':'mean', 'DE_dist':'mean','OLB_dist':'mean','MLB_dist':'mean',\n",
    "                               'LB_dist':'mean','ILB_dist':'mean', 'NT_dist':'mean'})"
   ]
  },
  {
   "cell_type": "code",
   "execution_count": 58,
   "id": "5330604f-d656-47ed-bd80-0260944afca3",
   "metadata": {},
   "outputs": [],
   "source": [
    "eb['game_play_offPosition_nfl_ID_LB_nfl_ID'] = eb['game_play_offPosition_nfl_ID'] + eb['LB_nfl_ID']\n"
   ]
  },
  {
   "cell_type": "code",
   "execution_count": 59,
   "id": "f1dcb207-ab8d-44fc-bd40-34511e48f37d",
   "metadata": {},
   "outputs": [],
   "source": [
    "LB_eb_dist2 = eb.groupby(['game_play_offPosition_nfl_ID','game_play_offPosition_nfl_ID_LB_nfl_ID','playDirection', 'event', 'officialPosition','offenseFormation', 'pff_playAction', \n",
    "            'defendersInBox', 'passResult', 'prePenaltyPlayResult', 'personnelO', 'personnelD', \n",
    "            'dropBackType', 'pff_passCoverage', 'pff_passCoverageType','LB_nfl_ID'],\n",
    "           as_index=False).agg({'DT_dist':'mean', 'DE_dist':'mean','OLB_dist':'mean','MLB_dist':'mean',\n",
    "                               'LB_dist':'mean','ILB_dist':'mean', 'NT_dist':'mean'})"
   ]
  },
  {
   "cell_type": "code",
   "execution_count": 60,
   "id": "abde50be-a4db-4131-9a76-69b0b7d433c4",
   "metadata": {},
   "outputs": [],
   "source": [
    "eb['game_play_offPosition_nfl_ID_NT_nfl_ID'] = eb['game_play_offPosition_nfl_ID'] + eb['NT_nfl_ID']\n"
   ]
  },
  {
   "cell_type": "code",
   "execution_count": 61,
   "id": "8819c64e-b8b1-424d-93a9-757e45191304",
   "metadata": {},
   "outputs": [],
   "source": [
    "NT_eb_dist2 = eb.groupby(['game_play_offPosition_nfl_ID','game_play_offPosition_nfl_ID_NT_nfl_ID','playDirection', 'event', 'officialPosition','offenseFormation', 'pff_playAction', \n",
    "            'defendersInBox', 'passResult', 'prePenaltyPlayResult', 'personnelO', 'personnelD', \n",
    "            'dropBackType', 'pff_passCoverage', 'pff_passCoverageType', 'NT_nfl_ID'],\n",
    "           as_index=False).agg({'DT_dist':'mean', 'DE_dist':'mean','OLB_dist':'mean','MLB_dist':'mean',\n",
    "                               'LB_dist':'mean','ILB_dist':'mean', 'NT_dist':'mean'})"
   ]
  },
  {
   "cell_type": "markdown",
   "id": "bc61e8fc-5401-4f0e-86c0-07464e16dfe4",
   "metadata": {},
   "source": [
    "## Rename columns so they all have the same name, which allows for concatenation. This is down twice because we used grooup by twice (I need to clean up the code still)."
   ]
  },
  {
   "cell_type": "code",
   "execution_count": 62,
   "id": "4d671253-5a1b-4333-bfa2-b16e6f8883af",
   "metadata": {},
   "outputs": [],
   "source": [
    "def rename_col(df, defender_ID):\n",
    "    df.rename(columns={defender_ID:'game_play_offPosition_nfl_ID_defender_nfl_ID'}, inplace=True)\n",
    "    \n",
    "rename_col(DT_eb_dist2, 'game_play_offPosition_nfl_ID_DT_nfl_ID')\n",
    "rename_col(DE_eb_dist2, 'game_play_offPosition_nfl_ID_DE_nfl_ID')\n",
    "rename_col(OLB_eb_dist2, 'game_play_offPosition_nfl_ID_OLB_nfl_ID')\n",
    "rename_col(MLB_eb_dist2, 'game_play_offPosition_nfl_ID_MLB_nfl_ID')\n",
    "rename_col(ILB_eb_dist2, 'game_play_offPosition_nfl_ID_ILB_nfl_ID')\n",
    "rename_col(LB_eb_dist2, 'game_play_offPosition_nfl_ID_LB_nfl_ID')\n",
    "rename_col(NT_eb_dist2, 'game_play_offPosition_nfl_ID_NT_nfl_ID')"
   ]
  },
  {
   "cell_type": "markdown",
   "id": "196d3078-251f-46b3-acb5-f10ad2654ea2",
   "metadata": {},
   "source": [
    "## Rename the player position and UID so the column can be concatenated."
   ]
  },
  {
   "cell_type": "code",
   "execution_count": 63,
   "id": "5674dab0-fa09-4b33-8715-5ac8a301a92d",
   "metadata": {},
   "outputs": [],
   "source": [
    "def rename_def_pos_id(df, def_nfl_ID):\n",
    "    df.rename(columns={def_nfl_ID:'def_pos_nfl_id'}, inplace=True)\n",
    "    \n",
    "rename_def_pos_id(DT_eb_dist2,'DT_nfl_ID')\n",
    "rename_def_pos_id(DE_eb_dist2,'DE_nfl_ID')\n",
    "rename_def_pos_id(NT_eb_dist2,'NT_nfl_ID')\n",
    "rename_def_pos_id(OLB_eb_dist2,'OLB_nfl_ID')\n",
    "rename_def_pos_id(MLB_eb_dist2,'MLB_nfl_ID')\n",
    "rename_def_pos_id(ILB_eb_dist2,'ILB_nfl_ID')\n",
    "rename_def_pos_id(LB_eb_dist2,'LB_nfl_ID')"
   ]
  },
  {
   "cell_type": "markdown",
   "id": "04364be0-4605-4110-97ea-4135a82b19dd",
   "metadata": {},
   "source": [
    "## Concat all defender dataframes into one."
   ]
  },
  {
   "cell_type": "code",
   "execution_count": 64,
   "id": "78b62630-deee-4c25-b1e5-760f6cdfe4ed",
   "metadata": {},
   "outputs": [],
   "source": [
    "frames = [DT_eb_dist2,DE_eb_dist2,OLB_eb_dist2,MLB_eb_dist2,ILB_eb_dist2,LB_eb_dist2,NT_eb_dist2]\n",
    "\n",
    "eb_dist2 = pd.concat(frames)"
   ]
  },
  {
   "cell_type": "markdown",
   "id": "3aff8842-a0b7-4db8-9a0b-f68c8aacff9a",
   "metadata": {},
   "source": [
    "## Find assigned blocker by selecting row wise minim value for distance"
   ]
  },
  {
   "cell_type": "code",
   "execution_count": 65,
   "id": "80ae3998-1028-4e2b-a944-49cd1882a167",
   "metadata": {},
   "outputs": [
    {
     "data": {
      "text/html": [
       "<div>\n",
       "<style scoped>\n",
       "    .dataframe tbody tr th:only-of-type {\n",
       "        vertical-align: middle;\n",
       "    }\n",
       "\n",
       "    .dataframe tbody tr th {\n",
       "        vertical-align: top;\n",
       "    }\n",
       "\n",
       "    .dataframe thead th {\n",
       "        text-align: right;\n",
       "    }\n",
       "</style>\n",
       "<table border=\"1\" class=\"dataframe\">\n",
       "  <thead>\n",
       "    <tr style=\"text-align: right;\">\n",
       "      <th></th>\n",
       "      <th>DT_dist</th>\n",
       "      <th>DE_dist</th>\n",
       "      <th>OLB_dist</th>\n",
       "      <th>MLB_dist</th>\n",
       "      <th>LB_dist</th>\n",
       "      <th>ILB_dist</th>\n",
       "      <th>NT_dist</th>\n",
       "      <th>blocked</th>\n",
       "    </tr>\n",
       "  </thead>\n",
       "  <tbody>\n",
       "    <tr>\n",
       "      <th>0</th>\n",
       "      <td>1.581055</td>\n",
       "      <td>5.378906</td>\n",
       "      <td>5.277344</td>\n",
       "      <td>NaN</td>\n",
       "      <td>NaN</td>\n",
       "      <td>7.8125</td>\n",
       "      <td>2.669922</td>\n",
       "      <td>1.581055</td>\n",
       "    </tr>\n",
       "    <tr>\n",
       "      <th>1</th>\n",
       "      <td>1.549805</td>\n",
       "      <td>3.478516</td>\n",
       "      <td>5.148438</td>\n",
       "      <td>4.824219</td>\n",
       "      <td>NaN</td>\n",
       "      <td>NaN</td>\n",
       "      <td>NaN</td>\n",
       "      <td>1.549805</td>\n",
       "    </tr>\n",
       "    <tr>\n",
       "      <th>2</th>\n",
       "      <td>1.656250</td>\n",
       "      <td>4.847656</td>\n",
       "      <td>4.394531</td>\n",
       "      <td>7.761719</td>\n",
       "      <td>NaN</td>\n",
       "      <td>NaN</td>\n",
       "      <td>NaN</td>\n",
       "      <td>1.656250</td>\n",
       "    </tr>\n",
       "    <tr>\n",
       "      <th>3</th>\n",
       "      <td>1.756836</td>\n",
       "      <td>3.943359</td>\n",
       "      <td>4.128906</td>\n",
       "      <td>5.460938</td>\n",
       "      <td>NaN</td>\n",
       "      <td>NaN</td>\n",
       "      <td>NaN</td>\n",
       "      <td>1.756836</td>\n",
       "    </tr>\n",
       "    <tr>\n",
       "      <th>4</th>\n",
       "      <td>1.499023</td>\n",
       "      <td>4.210938</td>\n",
       "      <td>3.171875</td>\n",
       "      <td>2.640625</td>\n",
       "      <td>NaN</td>\n",
       "      <td>NaN</td>\n",
       "      <td>NaN</td>\n",
       "      <td>1.499023</td>\n",
       "    </tr>\n",
       "  </tbody>\n",
       "</table>\n",
       "</div>"
      ],
      "text/plain": [
       "    DT_dist   DE_dist  OLB_dist  MLB_dist  LB_dist  ILB_dist   NT_dist  \\\n",
       "0  1.581055  5.378906  5.277344       NaN      NaN    7.8125  2.669922   \n",
       "1  1.549805  3.478516  5.148438  4.824219      NaN       NaN       NaN   \n",
       "2  1.656250  4.847656  4.394531  7.761719      NaN       NaN       NaN   \n",
       "3  1.756836  3.943359  4.128906  5.460938      NaN       NaN       NaN   \n",
       "4  1.499023  4.210938  3.171875  2.640625      NaN       NaN       NaN   \n",
       "\n",
       "    blocked  \n",
       "0  1.581055  \n",
       "1  1.549805  \n",
       "2  1.656250  \n",
       "3  1.756836  \n",
       "4  1.499023  "
      ]
     },
     "execution_count": 65,
     "metadata": {},
     "output_type": "execute_result"
    }
   ],
   "source": [
    "eb_dist2['blocked'] = eb_dist2[['DT_dist', 'DE_dist', 'OLB_dist', 'MLB_dist',\n",
    "       'LB_dist', 'ILB_dist', 'NT_dist']].min(axis=1)\n",
    "\n",
    "eb_dist2[['DT_dist', 'DE_dist', 'OLB_dist', 'MLB_dist', 'LB_dist', 'ILB_dist', 'NT_dist', 'blocked']].head(5)"
   ]
  },
  {
   "cell_type": "code",
   "execution_count": 66,
   "id": "f26b1187-c6aa-40ea-9f36-05992818daf3",
   "metadata": {},
   "outputs": [],
   "source": [
    "conditions = [\n",
    "    (eb_dist2['blocked'] == eb_dist2['DT_dist']),\n",
    "    (eb_dist2['blocked'] == eb_dist2['DE_dist']),\n",
    "    (eb_dist2['blocked'] == eb_dist2['OLB_dist']),\n",
    "    (eb_dist2['blocked'] == eb_dist2['MLB_dist']),\n",
    "    (eb_dist2['blocked'] == eb_dist2['LB_dist']),\n",
    "    (eb_dist2['blocked'] == eb_dist2['ILB_dist']),\n",
    "    (eb_dist2['blocked'] == eb_dist2['NT_dist'])\n",
    "]\n",
    "\n",
    "values = ['DT', 'DE', 'OLB', 'MLB','LB', 'ILB', 'NT']\n",
    "\n",
    "eb_dist2['blocked_position'] = np.select(conditions, values)"
   ]
  },
  {
   "cell_type": "markdown",
   "id": "56b77eb8-2061-4972-aa95-fb20c700a1d8",
   "metadata": {},
   "source": [
    "## Split out defender position from defender UID to compare to UID. Thgis is necessary because we need to filter down to the UID that belongs to the correct defender only."
   ]
  },
  {
   "cell_type": "code",
   "execution_count": 67,
   "id": "ed7d1ab9-b0f9-434f-b66a-7299af370e34",
   "metadata": {},
   "outputs": [],
   "source": [
    "eb_dist2['defPosition'] = eb_dist2['def_pos_nfl_id'].str[0:2]\n",
    "eb_dist2['def_nflId'] = eb_dist2['def_pos_nfl_id'].str[2:]"
   ]
  },
  {
   "cell_type": "markdown",
   "id": "481b6421-f6ce-435c-a8c4-33ad746c7609",
   "metadata": {},
   "source": [
    "## Split out the defender player from main UID."
   ]
  },
  {
   "cell_type": "code",
   "execution_count": 68,
   "id": "cd97d24d-849d-45ea-95c9-d51ce6ab9daa",
   "metadata": {},
   "outputs": [
    {
     "data": {
      "text/plain": [
       "0    42560.0\n",
       "1    53504.0\n",
       "2    53504.0\n",
       "3    53621.0\n",
       "4    53621.0\n",
       "Name: eb_blocked_player, dtype: object"
      ]
     },
     "execution_count": 68,
     "metadata": {},
     "output_type": "execute_result"
    }
   ],
   "source": [
    "eb_dist2['eb_blocked_player'] = eb_dist2['game_play_offPosition_nfl_ID_defender_nfl_ID'].str[-7:]\n",
    "eb_dist2['eb_blocked_player'].head(5)"
   ]
  },
  {
   "cell_type": "markdown",
   "id": "7b11c1fc-164b-4ce2-85ba-fae21756e443",
   "metadata": {},
   "source": [
    "## Groupby game_play_offPoss_nfl_ID and select minimum 'blocked' (time) to get actual blocked player"
   ]
  },
  {
   "cell_type": "code",
   "execution_count": 69,
   "id": "a3bac71f-d744-4ee3-8881-4ed1869df8f9",
   "metadata": {},
   "outputs": [
    {
     "data": {
      "text/html": [
       "<div>\n",
       "<style scoped>\n",
       "    .dataframe tbody tr th:only-of-type {\n",
       "        vertical-align: middle;\n",
       "    }\n",
       "\n",
       "    .dataframe tbody tr th {\n",
       "        vertical-align: top;\n",
       "    }\n",
       "\n",
       "    .dataframe thead th {\n",
       "        text-align: right;\n",
       "    }\n",
       "</style>\n",
       "<table border=\"1\" class=\"dataframe\">\n",
       "  <thead>\n",
       "    <tr style=\"text-align: right;\">\n",
       "      <th></th>\n",
       "      <th>game_play_offPosition_nfl_ID</th>\n",
       "      <th>game_play_offPosition_nfl_ID_defender_nfl_ID</th>\n",
       "      <th>playDirection</th>\n",
       "      <th>event</th>\n",
       "      <th>officialPosition</th>\n",
       "      <th>offenseFormation</th>\n",
       "      <th>pff_playAction</th>\n",
       "      <th>defendersInBox</th>\n",
       "      <th>passResult</th>\n",
       "      <th>prePenaltyPlayResult</th>\n",
       "      <th>...</th>\n",
       "      <th>OLB_dist</th>\n",
       "      <th>MLB_dist</th>\n",
       "      <th>LB_dist</th>\n",
       "      <th>ILB_dist</th>\n",
       "      <th>NT_dist</th>\n",
       "      <th>blocked</th>\n",
       "      <th>blocked_position</th>\n",
       "      <th>defPosition</th>\n",
       "      <th>def_nflId</th>\n",
       "      <th>eb_blocked_player</th>\n",
       "    </tr>\n",
       "  </thead>\n",
       "  <tbody>\n",
       "    <tr>\n",
       "      <th>0</th>\n",
       "      <td>20210909001078C52554.0</td>\n",
       "      <td>20210909001078C52554.0ILB38588.0</td>\n",
       "      <td>right</td>\n",
       "      <td>None</td>\n",
       "      <td>C</td>\n",
       "      <td>SHOTGUN</td>\n",
       "      <td>0</td>\n",
       "      <td>5.0</td>\n",
       "      <td>C</td>\n",
       "      <td>5</td>\n",
       "      <td>...</td>\n",
       "      <td>5.277344</td>\n",
       "      <td>NaN</td>\n",
       "      <td>NaN</td>\n",
       "      <td>10.523438</td>\n",
       "      <td>2.669922</td>\n",
       "      <td>1.581055</td>\n",
       "      <td>DT</td>\n",
       "      <td>IL</td>\n",
       "      <td>B38588.0</td>\n",
       "      <td>38588.0</td>\n",
       "    </tr>\n",
       "    <tr>\n",
       "      <th>1</th>\n",
       "      <td>20210909001203C40151.0</td>\n",
       "      <td>20210909001203C40151.0DE42403.0</td>\n",
       "      <td>left</td>\n",
       "      <td>None</td>\n",
       "      <td>C</td>\n",
       "      <td>SHOTGUN</td>\n",
       "      <td>0</td>\n",
       "      <td>6.0</td>\n",
       "      <td>C</td>\n",
       "      <td>5</td>\n",
       "      <td>...</td>\n",
       "      <td>5.148438</td>\n",
       "      <td>4.824219</td>\n",
       "      <td>NaN</td>\n",
       "      <td>NaN</td>\n",
       "      <td>NaN</td>\n",
       "      <td>1.549805</td>\n",
       "      <td>DT</td>\n",
       "      <td>DE</td>\n",
       "      <td>42403.0</td>\n",
       "      <td>42403.0</td>\n",
       "    </tr>\n",
       "    <tr>\n",
       "      <th>2</th>\n",
       "      <td>20210909001227C40151.0</td>\n",
       "      <td>20210909001227C40151.0MLB43306.0</td>\n",
       "      <td>left</td>\n",
       "      <td>None</td>\n",
       "      <td>C</td>\n",
       "      <td>SHOTGUN</td>\n",
       "      <td>0</td>\n",
       "      <td>5.0</td>\n",
       "      <td>C</td>\n",
       "      <td>19</td>\n",
       "      <td>...</td>\n",
       "      <td>4.394531</td>\n",
       "      <td>7.761719</td>\n",
       "      <td>NaN</td>\n",
       "      <td>NaN</td>\n",
       "      <td>NaN</td>\n",
       "      <td>1.656250</td>\n",
       "      <td>DT</td>\n",
       "      <td>ML</td>\n",
       "      <td>B43306.0</td>\n",
       "      <td>43306.0</td>\n",
       "    </tr>\n",
       "    <tr>\n",
       "      <th>3</th>\n",
       "      <td>20210909001267C40151.0</td>\n",
       "      <td>20210909001267C40151.0MLB43306.0</td>\n",
       "      <td>left</td>\n",
       "      <td>None</td>\n",
       "      <td>C</td>\n",
       "      <td>SINGLEBACK</td>\n",
       "      <td>1</td>\n",
       "      <td>7.0</td>\n",
       "      <td>C</td>\n",
       "      <td>17</td>\n",
       "      <td>...</td>\n",
       "      <td>4.128906</td>\n",
       "      <td>5.460938</td>\n",
       "      <td>NaN</td>\n",
       "      <td>NaN</td>\n",
       "      <td>NaN</td>\n",
       "      <td>1.756836</td>\n",
       "      <td>DT</td>\n",
       "      <td>ML</td>\n",
       "      <td>B43306.0</td>\n",
       "      <td>43306.0</td>\n",
       "    </tr>\n",
       "    <tr>\n",
       "      <th>4</th>\n",
       "      <td>20210909001312C40151.0</td>\n",
       "      <td>20210909001312C40151.0DT53621.0</td>\n",
       "      <td>left</td>\n",
       "      <td>None</td>\n",
       "      <td>C</td>\n",
       "      <td>SINGLEBACK</td>\n",
       "      <td>1</td>\n",
       "      <td>7.0</td>\n",
       "      <td>C</td>\n",
       "      <td>2</td>\n",
       "      <td>...</td>\n",
       "      <td>3.171875</td>\n",
       "      <td>2.640625</td>\n",
       "      <td>NaN</td>\n",
       "      <td>NaN</td>\n",
       "      <td>NaN</td>\n",
       "      <td>1.499023</td>\n",
       "      <td>DT</td>\n",
       "      <td>DT</td>\n",
       "      <td>53621.0</td>\n",
       "      <td>53621.0</td>\n",
       "    </tr>\n",
       "  </tbody>\n",
       "</table>\n",
       "<p>5 rows × 28 columns</p>\n",
       "</div>"
      ],
      "text/plain": [
       "  game_play_offPosition_nfl_ID game_play_offPosition_nfl_ID_defender_nfl_ID  \\\n",
       "0       20210909001078C52554.0             20210909001078C52554.0ILB38588.0   \n",
       "1       20210909001203C40151.0              20210909001203C40151.0DE42403.0   \n",
       "2       20210909001227C40151.0             20210909001227C40151.0MLB43306.0   \n",
       "3       20210909001267C40151.0             20210909001267C40151.0MLB43306.0   \n",
       "4       20210909001312C40151.0              20210909001312C40151.0DT53621.0   \n",
       "\n",
       "  playDirection event officialPosition offenseFormation  pff_playAction  \\\n",
       "0         right  None                C          SHOTGUN               0   \n",
       "1          left  None                C          SHOTGUN               0   \n",
       "2          left  None                C          SHOTGUN               0   \n",
       "3          left  None                C       SINGLEBACK               1   \n",
       "4          left  None                C       SINGLEBACK               1   \n",
       "\n",
       "   defendersInBox passResult  prePenaltyPlayResult  ...  OLB_dist  MLB_dist  \\\n",
       "0             5.0          C                     5  ...  5.277344       NaN   \n",
       "1             6.0          C                     5  ...  5.148438  4.824219   \n",
       "2             5.0          C                    19  ...  4.394531  7.761719   \n",
       "3             7.0          C                    17  ...  4.128906  5.460938   \n",
       "4             7.0          C                     2  ...  3.171875  2.640625   \n",
       "\n",
       "  LB_dist   ILB_dist   NT_dist   blocked  blocked_position  defPosition  \\\n",
       "0     NaN  10.523438  2.669922  1.581055                DT           IL   \n",
       "1     NaN        NaN       NaN  1.549805                DT           DE   \n",
       "2     NaN        NaN       NaN  1.656250                DT           ML   \n",
       "3     NaN        NaN       NaN  1.756836                DT           ML   \n",
       "4     NaN        NaN       NaN  1.499023                DT           DT   \n",
       "\n",
       "   def_nflId  eb_blocked_player  \n",
       "0   B38588.0            38588.0  \n",
       "1    42403.0            42403.0  \n",
       "2   B43306.0            43306.0  \n",
       "3   B43306.0            43306.0  \n",
       "4    53621.0            53621.0  \n",
       "\n",
       "[5 rows x 28 columns]"
      ]
     },
     "execution_count": 69,
     "metadata": {},
     "output_type": "execute_result"
    }
   ],
   "source": [
    "eb_filtered = eb_dist2.sort_values(\"blocked\").groupby(\"game_play_offPosition_nfl_ID\", as_index=False).first()\n",
    "eb_filtered.head()"
   ]
  },
  {
   "cell_type": "markdown",
   "id": "b2dc3729-3218-4a93-b21b-b9532eb3e371",
   "metadata": {},
   "source": [
    "## We will now work towards measuring the amount of \"push\" (x value) a defender gets on each center by (eventually) subtracting the starting x value form the end x value of the defender. A negative number indicates the center pushed the defender backwards. A positive value indicates the defender was able to move forward. "
   ]
  },
  {
   "cell_type": "code",
   "execution_count": 70,
   "id": "7f966b2c-41e4-4e19-8a90-1eb8235065cd",
   "metadata": {},
   "outputs": [],
   "source": [
    "defender = eb_filtered"
   ]
  },
  {
   "cell_type": "markdown",
   "id": "30cb3f9a-a17e-476d-a2f2-2ccc1345216d",
   "metadata": {},
   "source": [
    "## Remove center from defender_list ID...use new ID to filter weeks 3 after taking out all center. then merge filtered weeks with center dataframe"
   ]
  },
  {
   "cell_type": "code",
   "execution_count": 71,
   "id": "f7c94e15-e118-4ebc-b8be-4d1e677eb108",
   "metadata": {},
   "outputs": [],
   "source": [
    "defender['def_game_play_ID'] = defender['game_play_offPosition_nfl_ID_defender_nfl_ID'].str[:14]\n",
    "defender['def_nfl_ID'] = defender['game_play_offPosition_nfl_ID_defender_nfl_ID'].str[-7:]"
   ]
  },
  {
   "cell_type": "code",
   "execution_count": 72,
   "id": "414edb36-0b0d-44e9-9c31-5597a14f3062",
   "metadata": {},
   "outputs": [],
   "source": [
    "defender['def_game_play_nfl_id'] = defender['game_play_offPosition_nfl_ID_defender_nfl_ID'].str.replace(r'C\\w\\w\\w\\w\\w.0', '')\n",
    "defender['def_game_play_nfl_id'] = defender['def_game_play_nfl_id'].str.replace(r'ILB', '')\n",
    "defender['def_game_play_nfl_id'] = defender['def_game_play_nfl_id'].str.replace(r'MLB', '')\n",
    "defender['def_game_play_nfl_id'] = defender['def_game_play_nfl_id'].str.replace(r'OLB', '')\n",
    "defender['def_game_play_nfl_id'] = defender['def_game_play_nfl_id'].str.replace(r'DT', '')\n",
    "defender['def_game_play_nfl_id'] = defender['def_game_play_nfl_id'].str.replace(r'DE', '')\n",
    "defender['def_game_play_nfl_id'] = defender['def_game_play_nfl_id'].str.replace(r'NT', '')\n",
    "defender['def_game_play_nfl_id'] = defender['def_game_play_nfl_id'].str.replace(r'LB', '')"
   ]
  },
  {
   "cell_type": "code",
   "execution_count": 73,
   "id": "3e1a37b6-deea-473f-aba5-1424f7605749",
   "metadata": {},
   "outputs": [],
   "source": [
    "defender_list = defender['def_game_play_nfl_id'].tolist()"
   ]
  },
  {
   "cell_type": "markdown",
   "id": "5f1fd1ee-f19a-4afa-9f0b-151e8bb38a18",
   "metadata": {},
   "source": [
    "## Merge game data with play data to add home team and visiting abbreviation in order to identify direction on field team is driving (increaing or decreasing x)"
   ]
  },
  {
   "cell_type": "code",
   "execution_count": null,
   "id": "189e815b-6ee0-4b9e-b726-b36f6c8070d0",
   "metadata": {},
   "outputs": [],
   "source": []
  },
  {
   "cell_type": "code",
   "execution_count": 74,
   "id": "bdf3db90-057a-4cab-a83a-c594a9ef4bac",
   "metadata": {},
   "outputs": [
    {
     "data": {
      "text/plain": [
       "(7952692, 13)"
      ]
     },
     "execution_count": 74,
     "metadata": {},
     "output_type": "execute_result"
    }
   ],
   "source": [
    "games['gameId'] = games['gameId'].astype(str)\n",
    "\n",
    "team_abbr = games[['gameId','homeTeamAbbr', 'visitorTeamAbbr']]\n",
    "   \n",
    "weeks2A = pd.merge(weeks2A, team_abbr, \n",
    "                      on ='gameId', \n",
    "                      how ='inner')\n",
    "\n",
    "weeks2A[[\"x\", \"y\"]] = weeks2A[[\"x\", \"y\"]].astype('float16')\n",
    "weeks2A.shape"
   ]
  },
  {
   "cell_type": "code",
   "execution_count": 75,
   "id": "956c086f-f604-4fa8-aba3-6da633296cc6",
   "metadata": {},
   "outputs": [
    {
     "data": {
      "text/plain": [
       "(6446660, 25)"
      ]
     },
     "execution_count": 75,
     "metadata": {},
     "output_type": "execute_result"
    }
   ],
   "source": [
    "#merge plays with weeks\n",
    "\n",
    "pass_plays = plays[['game_play_id','offenseFormation', 'quarter', 'possessionTeam','pff_playAction', 'defendersInBox','passResult','prePenaltyPlayResult', 'personnelO','personnelD','dropBackType',\n",
    "                    'pff_passCoverage','pff_passCoverageType']]\n",
    "   \n",
    "weeks3A = pd.merge(weeks2A, pass_plays, \n",
    "                      on ='game_play_id', \n",
    "                      how ='inner')\n",
    "\n",
    "weeks3A['frameId'] = weeks3A['frameId'].astype(int)\n",
    "\n",
    "weeks3A = weeks3A.loc[weeks3A['frameId'] >= 9]\n",
    "\n",
    "weeks3A.shape"
   ]
  },
  {
   "cell_type": "markdown",
   "id": "46b66d0e-9585-4f77-99a2-e590480eb32d",
   "metadata": {},
   "source": [
    "### create various IDs for player by position and UID"
   ]
  },
  {
   "cell_type": "code",
   "execution_count": 76,
   "id": "6a8a2d15-990e-40fa-b109-8bd8668aa07c",
   "metadata": {},
   "outputs": [],
   "source": [
    "weeks3A[['nflId', 'frameId']] = weeks3A[['nflId', 'frameId']].astype(str)\n",
    "\n",
    "weeks3A['game_play_frame_id'] = weeks3A['gameId']+weeks3A['playId']+weeks3A['frameId']\n",
    "\n",
    "weeks3A['position+NFL_ID'] = weeks3A['officialPosition'] + weeks3A['nflId']\n",
    "\n",
    "weeks3A['game_play_nfl_id'] = weeks3A['game_play_id'] + weeks3A['nflId'] "
   ]
  },
  {
   "cell_type": "markdown",
   "id": "1246f589-df33-4fa6-aaab-9dd902ef36b4",
   "metadata": {},
   "source": [
    "## Split out center from rest of df"
   ]
  },
  {
   "cell_type": "code",
   "execution_count": 77,
   "id": "c2b9141c-8f36-406c-815a-322842d84e2a",
   "metadata": {},
   "outputs": [],
   "source": [
    "C_df = weeks3A.loc[(weeks3A['officialPosition'] == 'C')] "
   ]
  },
  {
   "cell_type": "markdown",
   "id": "465af4a6-7f6b-4197-994b-74f7e93ff752",
   "metadata": {},
   "source": [
    "## Filter weeks 3 down to defender game_play_nfl_id"
   ]
  },
  {
   "cell_type": "code",
   "execution_count": 78,
   "id": "3370b738-4a54-47e4-9f91-d3d03632a274",
   "metadata": {},
   "outputs": [],
   "source": [
    "def_weeks3 = weeks3A.loc[(weeks3A['game_play_nfl_id'].isin(defender_list))]"
   ]
  },
  {
   "cell_type": "markdown",
   "id": "bff98c5a-5430-40e9-b468-2290c804c004",
   "metadata": {},
   "source": [
    "## Label center and defender x, y"
   ]
  },
  {
   "cell_type": "code",
   "execution_count": 79,
   "id": "41132b64-e63a-46d5-9750-11f3795a009f",
   "metadata": {},
   "outputs": [
    {
     "data": {
      "text/plain": [
       "[None, None]"
      ]
     },
     "execution_count": 79,
     "metadata": {},
     "output_type": "execute_result"
    }
   ],
   "source": [
    "pos_col_name = ['C_', 'def_']#prefix\n",
    "\n",
    "dfs = [C_df, def_weeks3]\n",
    "\n",
    "[_df.rename(columns={'x': prefix+'x'}, inplace=True)\n",
    " for prefix, _df in zip(pos_col_name, dfs)]\n",
    "\n",
    "[_df.rename(columns={'y': prefix+'y'}, inplace=True)\n",
    " for prefix, _df in zip(pos_col_name, dfs)]\n",
    "\n",
    "[_df.rename(columns={'position+NFL_ID': prefix+'position+NFL_ID'}, inplace=True)\n",
    " for prefix, _df in zip(pos_col_name, dfs)]\n",
    "\n",
    "[_df.rename(columns={'game_play_nfl_id': prefix+'game_play_nfl_id'}, inplace=True)\n",
    " for prefix, _df in zip(pos_col_name, dfs)]"
   ]
  },
  {
   "cell_type": "markdown",
   "id": "0db300da-ae20-45f8-bd97-165107ac4b1e",
   "metadata": {},
   "source": [
    "## Drop duplicate columns from defender list"
   ]
  },
  {
   "cell_type": "code",
   "execution_count": 80,
   "id": "b884632c-f874-4f6a-91bf-f9f627da42e2",
   "metadata": {},
   "outputs": [],
   "source": [
    "cols = ['gameId','playId', 'quarter', 'nflId','frameId','time','playDirection', 'event', 'game_play_id',\n",
    "       'officialPosition', 'offenseFormation', 'pff_playAction', 'homeTeamAbbr', 'visitorTeamAbbr',\n",
    "       'defendersInBox', 'passResult', 'prePenaltyPlayResult', 'possessionTeam',\n",
    "       'personnelO', 'personnelD', 'dropBackType', 'pff_passCoverage', 'pff_passCoverageType']\n",
    "\n",
    "for c in cols:\n",
    "    def_weeks3.drop(columns=[c], inplace=True)"
   ]
  },
  {
   "cell_type": "markdown",
   "id": "a0d21f86-23af-4e7d-a189-f8dcfb2a7f5d",
   "metadata": {},
   "source": [
    "### Multiple centers found on play(technically not possibly...likely a center is playing another o-lilne position. Remove duplicate centers."
   ]
  },
  {
   "cell_type": "code",
   "execution_count": 81,
   "id": "f146ac13-6908-486b-9f28-c52cd8e15ca5",
   "metadata": {},
   "outputs": [],
   "source": [
    "ids = C_df['game_play_frame_id']\n",
    "\n",
    "dup = C_df[ids.isin(ids[ids.duplicated()])].sort_values('game_play_frame_id')\n",
    "\n",
    "dup_list = dup['game_play_frame_id'].tolist()\n",
    "\n",
    "C_df = C_df[~C_df['game_play_frame_id'].isin(dup_list)]"
   ]
  },
  {
   "cell_type": "markdown",
   "id": "759e9e11-08aa-4566-96fb-03e64230594f",
   "metadata": {},
   "source": [
    "### Remove dupicate center values & merge C_df with def_weeks3 on game_play_frame_id"
   ]
  },
  {
   "cell_type": "code",
   "execution_count": 82,
   "id": "756cb4ff-4ef5-4e4b-86b3-ad1b91f44795",
   "metadata": {},
   "outputs": [],
   "source": [
    "def_ids = def_weeks3['game_play_frame_id']\n",
    "dup = def_weeks3[def_ids.isin(def_ids[def_ids.duplicated()])].sort_values('game_play_frame_id')\n",
    "\n",
    "dup_list = dup['game_play_frame_id'].tolist()\n",
    "\n",
    "def_weeks3 = def_weeks3[~def_weeks3['game_play_frame_id'].isin(dup_list)]# May not actually hve any..shouldn't"
   ]
  },
  {
   "cell_type": "code",
   "execution_count": 83,
   "id": "73392b89-0bb7-4217-8908-916fd292532b",
   "metadata": {},
   "outputs": [],
   "source": [
    "C_df = C_df.merge(def_weeks3,on='game_play_frame_id', how='left')"
   ]
  },
  {
   "cell_type": "markdown",
   "id": "01babe41-be05-46cd-89ab-b6bdeaf258d5",
   "metadata": {},
   "source": [
    "### Remove NaN def_x values caused by dropping duplicate centers previously in code"
   ]
  },
  {
   "cell_type": "code",
   "execution_count": 84,
   "id": "4e498a3f-c7b4-4e47-a972-eda15a1aaed1",
   "metadata": {},
   "outputs": [],
   "source": [
    "C_df = C_df[C_df['def_x'].notna()]"
   ]
  },
  {
   "cell_type": "markdown",
   "id": "6f749ccf-f3b5-4f36-ae5f-1db6a4f9f852",
   "metadata": {},
   "source": [
    "## Remove play_frame_ID after forward pass"
   ]
  },
  {
   "cell_type": "code",
   "execution_count": 85,
   "id": "b5ce9411-a94b-4416-8eda-1d71166d60b1",
   "metadata": {},
   "outputs": [],
   "source": [
    "ids = C_df[\"game_play_id\"].unique().tolist()\n",
    "\n",
    "frames = []\n",
    "for uid in ids:\n",
    "    split = C_df.loc[C_df[\"game_play_id\"] == uid]\n",
    "    idx = next((idx for idx, val in enumerate(split[\"event\"]) if val == \"pass_forward\"), len(split.index))\n",
    "    result = split.iloc[: idx + 1]\n",
    "    frames.append(result)\n",
    "\n",
    "final = pd.concat(frames)"
   ]
  },
  {
   "cell_type": "markdown",
   "id": "e8ac711c-18b9-4eb3-884d-d3a99162b6c3",
   "metadata": {},
   "source": [
    "## Find the difference in x to find how far the defender traveled. "
   ]
  },
  {
   "cell_type": "code",
   "execution_count": 86,
   "id": "4b97004c-21e6-4e99-a2c9-8e999c226139",
   "metadata": {},
   "outputs": [],
   "source": [
    "penetration = final.groupby(['game_play_id','C_position+NFL_ID', 'homeTeamAbbr', 'visitorTeamAbbr', 'possessionTeam' ], as_index=False).agg( lambda x: x.iloc[0] - x.iloc[-1])"
   ]
  },
  {
   "cell_type": "markdown",
   "id": "439b5e91-7dcf-40ea-a686-08b8bc4bcf10",
   "metadata": {},
   "source": [
    "### Convert visiting defense to same polarity (positive/negative) as home team since home and visiting team x move in opposite direction."
   ]
  },
  {
   "cell_type": "code",
   "execution_count": 87,
   "id": "9b554d1d-5398-40df-8ee6-325139cb004a",
   "metadata": {},
   "outputs": [],
   "source": [
    "def change_visitor_negative(row):\n",
    "    if row['homeTeamAbbr'] == row['possessionTeam']:\n",
    "        val = -1\n",
    "    elif row['homeTeamAbbr'] != row['possessionTeam']:\n",
    "        val = 1\n",
    "    return val"
   ]
  },
  {
   "cell_type": "code",
   "execution_count": 88,
   "id": "e2c615bd-614b-4c27-a3fb-d9f4f9f7feb5",
   "metadata": {},
   "outputs": [],
   "source": [
    "penetration['def_factor'] = penetration.apply(change_visitor_negative, axis=1)\n",
    "penetration[\"penetration\"] = penetration['def_x'] * penetration[\"def_factor\"]\n",
    "penetration = penetration.sort_values(by=['penetration'])"
   ]
  },
  {
   "cell_type": "markdown",
   "id": "95550ba4-3197-4c75-96f8-0060afcf5336",
   "metadata": {},
   "source": [
    "### Find the average penetration for each center"
   ]
  },
  {
   "cell_type": "code",
   "execution_count": 89,
   "id": "9497229d-4a45-4b33-a41a-1d7bc3393ec2",
   "metadata": {},
   "outputs": [],
   "source": [
    "avg_penetration = penetration.groupby(['C_position+NFL_ID', 'possessionTeam' ], \n",
    "                              as_index=False).agg({'penetration':'mean', 'game_play_id' : 'count'})"
   ]
  },
  {
   "cell_type": "code",
   "execution_count": 90,
   "id": "694edcb4-0036-49c7-9242-7d7fa59a85eb",
   "metadata": {},
   "outputs": [],
   "source": [
    "avg_penetration = avg_penetration.sort_values(by=['penetration'])"
   ]
  },
  {
   "cell_type": "markdown",
   "id": "6045d39c-4319-4863-aff9-cfdb8d343208",
   "metadata": {},
   "source": [
    "### Merge avg_penetration with players df to get name of center"
   ]
  },
  {
   "cell_type": "code",
   "execution_count": 91,
   "id": "5870285b-45f9-467c-95a7-b7ca73072110",
   "metadata": {},
   "outputs": [],
   "source": [
    "avg_penetration[\"nflId\"] = avg_penetration['C_position+NFL_ID'].str[1:]\n",
    "avg_penetration[\"nflId\"] = avg_penetration['nflId'].str[:-2]"
   ]
  },
  {
   "cell_type": "code",
   "execution_count": 92,
   "id": "0e298ce2-3857-47fb-a605-396fa98f895b",
   "metadata": {},
   "outputs": [],
   "source": [
    "players[['nflId']] = players[['nflId']].astype(str)\n",
    "player_names = players[['nflId', 'displayName']]"
   ]
  },
  {
   "cell_type": "code",
   "execution_count": 93,
   "id": "521621cf-11af-421c-9b3f-927368f61943",
   "metadata": {},
   "outputs": [],
   "source": [
    "avg_penetration = pd.merge(avg_penetration, player_names, \n",
    "                      on ='nflId', \n",
    "                      how ='left')"
   ]
  },
  {
   "cell_type": "code",
   "execution_count": 94,
   "id": "b06e816e-3ec4-4b2f-9456-0d0659c1e77b",
   "metadata": {},
   "outputs": [],
   "source": [
    "avg_penetration['Play Count'] = avg_penetration['game_play_id']\n",
    "\n",
    "avg_penetration = avg_penetration[['displayName', 'penetration', 'Play Count','possessionTeam']]"
   ]
  },
  {
   "cell_type": "code",
   "execution_count": 95,
   "id": "584cf19f-1b04-419c-81e4-e08d4ca4a2cb",
   "metadata": {},
   "outputs": [],
   "source": [
    "dtale(avg_penetration)"
   ]
  },
  {
   "cell_type": "code",
   "execution_count": 96,
   "id": "789144e5-509f-48ec-9541-5b791f691dfb",
   "metadata": {},
   "outputs": [],
   "source": [
    "avg_penetration.to_excel(\"avg_penetration.xlsx\")"
   ]
  },
  {
   "cell_type": "markdown",
   "id": "06ab8d51-c233-4540-95dd-ca53debcabd7",
   "metadata": {},
   "source": [
    "### Graph the center and defensive player on a scatter plot for a specified play"
   ]
  },
  {
   "cell_type": "code",
   "execution_count": 97,
   "id": "5024f1eb-df40-41f8-9757-ce1bf1022894",
   "metadata": {},
   "outputs": [],
   "source": [
    "import matplotlib.pyplot as plt\n",
    "from matplotlib.colors import ListedColormap\n",
    "import seaborn as sns\n",
    "%matplotlib inline"
   ]
  },
  {
   "cell_type": "code",
   "execution_count": 162,
   "id": "a7ba8f0d-3c18-4fe5-986b-4b8ed4db5ddf",
   "metadata": {},
   "outputs": [],
   "source": [
    "def scat(game_play_id):\n",
    "    Xy = C_df.loc[C_df['game_play_id'] == game_play_id, ['C_x', 'C_y']]\n",
    "    Xy['Role'] = \"Center\"\n",
    "\n",
    "\n",
    "    def_Xy = C_df.loc[C_df['game_play_id'] == game_play_id, ['def_x', 'def_y']]\n",
    "    def_Xy['Role'] = \"Defense\"\n",
    "\n",
    "    Xy = Xy.rename(columns={\"C_x\": \"X\"})\n",
    "    Xy = Xy.rename(columns={\"C_y\": \"y\"})\n",
    "    Xy = pd.concat([Xy,def_Xy.rename(columns={'def_x':'X', 'C_x': 'X', 'def_y':'y', 'C_y':'y'})], ignore_index=True)\n",
    "\n",
    "    def categorise(row):  \n",
    "        if row['Role'] == 'Center':\n",
    "            return 'blue'\n",
    "        elif row['Role'] == \"Defense\":\n",
    "            return 'red'\n",
    "    \n",
    "    Xy['Color'] = Xy.apply(lambda row: categorise(row), axis=1)\n",
    "\n",
    "    colors=['blue', 'red']\n",
    "\n",
    "    # scatter plot with two features\n",
    "    fig = plt.figure(figsize=(8,6))\n",
    "    s = plt.scatter(Xy[\"X\"], Xy[\"y\"], s=150, c=Xy[\"Color\"])\n",
    "    plt.xlabel('Yardline', size=24)\n",
    "    plt.ylabel('Width', size=24)\n",
    "    plt.title(\"Center vs Defender Movement\", size=18)\n",
    "    fig.set_facecolor('white')\n",
    "    #fig.style.use('seaborn-darkgrid')\n",
    "    plt.legend(Xy['Role'])\n",
    "    #plt.savefig(\"scatter2.png\")\n",
    "    plt.show()"
   ]
  },
  {
   "cell_type": "code",
   "execution_count": 161,
   "id": "e817e37d-b867-40fe-97f8-95565b16b953",
   "metadata": {},
   "outputs": [
    {
     "data": {
      "image/png": "[encoded data removed]",
      "text/plain": [
       "<Figure size 576x432 with 1 Axes>"
      ]
     },
     "metadata": {},
     "output_type": "display_data"
    }
   ],
   "source": [
    "scat('20210913004765')"
   ]
  },
  {
   "cell_type": "code",
   "execution_count": 163,
   "id": "f87e5d4c-2574-48ca-8637-f501fa66df27",
   "metadata": {},
   "outputs": [
    {
     "data": {
      "image/png": "[encoded data removed]",
      "text/plain": [
       "<Figure size 576x432 with 1 Axes>"
      ]
     },
     "metadata": {},
     "output_type": "display_data"
    }
   ],
   "source": [
    "scat('20210913004691')"
   ]
  },
  {
   "cell_type": "code",
   "execution_count": 458,
   "id": "2acf56f1-dbd3-4f82-9b4c-2823f6023293",
   "metadata": {},
   "outputs": [
    {
     "data": {
      "image/png": "[encoded data removed]",
      "text/plain": [
       "<Figure size 576x432 with 1 Axes>"
      ]
     },
     "metadata": {
      "needs_background": "light"
     },
     "output_type": "display_data"
    }
   ],
   "source": [
    "scat('20211010071268')"
   ]
  },
  {
   "cell_type": "code",
   "execution_count": 459,
   "id": "d07a095a-5d1d-4978-8681-79d376805a4a",
   "metadata": {},
   "outputs": [
    {
     "data": {
      "image/png": "[encoded data removed]",
      "text/plain": [
       "<Figure size 576x432 with 1 Axes>"
      ]
     },
     "metadata": {
      "needs_background": "light"
     },
     "output_type": "display_data"
    }
   ],
   "source": [
    "scat('20211024093701')"
   ]
  },
  {
   "cell_type": "markdown",
   "id": "6a600ae7-accd-4273-a957-226f08a62136",
   "metadata": {},
   "source": [
    "## Assess spread of average penetration for centers"
   ]
  },
  {
   "cell_type": "code",
   "execution_count": 127,
   "id": "5cba603b-d43e-42f0-bd52-61cd88ca8b9e",
   "metadata": {},
   "outputs": [
    {
     "data": {
      "image/png": "[encoded data removed]",
      "text/plain": [
       "<Figure size 576x432 with 1 Axes>"
      ]
     },
     "metadata": {},
     "output_type": "display_data"
    }
   ],
   "source": [
    "sns.set_style('whitegrid')\n",
    "\n",
    "#avg_penetration['penetration'].plot(kind='hist')\n",
    "plt.figure(figsize=(8,6))\n",
    "avg_penetration['penetration'].hist()\n",
    "plt.title(\"Count of Centers by Avg Penetration (binned)\", size=18)\n",
    "plt.xlabel(\"Penetration\", size=24)\n",
    "plt.ylabel(\"Count\", size=24)\n",
    "plt.grid(axis='x')\n",
    "plt.savefig('histo_avg_pen.png')"
   ]
  },
  {
   "cell_type": "code",
   "execution_count": null,
   "id": "76ef1b1d-836d-43fb-b852-4c6c12ac3043",
   "metadata": {},
   "outputs": [],
   "source": []
  }
 ],
 "metadata": {
  "kernelspec": {
   "display_name": "Python 3",
   "language": "python",
   "name": "python3"
  },
  "language_info": {
   "codemirror_mode": {
    "name": "ipython",
    "version": 3
   },
   "file_extension": ".py",
   "mimetype": "text/x-python",
   "name": "python",
   "nbconvert_exporter": "python",
   "pygments_lexer": "ipython3",
   "version": "3.8.8"
  }
 },
 "nbformat": 4,
 "nbformat_minor": 5
}
